{
 "cells": [
  {
   "cell_type": "markdown",
   "metadata": {},
   "source": [
    "# Objectives"
   ]
  },
  {
   "cell_type": "markdown",
   "metadata": {},
   "source": [
    "- [x] get data from database\n",
    "- [ ] data wrangling\n",
    "- [ ] ml model \n",
    "- [ ] compare with traditional prediction"
   ]
  },
  {
   "cell_type": "markdown",
   "metadata": {},
   "source": [
    "# source"
   ]
  },
  {
   "cell_type": "markdown",
   "metadata": {},
   "source": [
    " data provided by Openweathermap"
   ]
  },
  {
   "cell_type": "markdown",
   "metadata": {},
   "source": [
    "# Imports"
   ]
  },
  {
   "cell_type": "code",
   "execution_count": 11,
   "metadata": {},
   "outputs": [],
   "source": [
    "# os\n",
    "import os\n",
    "\n",
    "#googlesheets\n",
    "import gspread\n",
    "from oauth2client.service_account import ServiceAccountCredentials\n",
    "from df2gspread import df2gspread as d2g\n",
    "\n",
    "#data wrangling\n",
    "import pandas as pd\n",
    "import numpy as np\n",
    "\n",
    "#data science\n",
    "import calmap\n",
    "\n",
    "#data visualisation\n",
    "import matplotlib.pyplot as plt\n",
    "%matplotlib inline\n",
    "import seaborn as sns\n"
   ]
  },
  {
   "cell_type": "markdown",
   "metadata": {},
   "source": [
    "# Data imports"
   ]
  },
  {
   "cell_type": "markdown",
   "metadata": {},
   "source": [
    "## google sheet authentication"
   ]
  },
  {
   "cell_type": "code",
   "execution_count": 2,
   "metadata": {},
   "outputs": [],
   "source": [
    "#authentication to google api using JSON credential file\n",
    "scope = ['https://spreadsheets.google.com/feeds','https://www.googleapis.com/auth/drive']\n",
    "creds = ServiceAccountCredentials.from_json_keyfile_name('api_data/WDcred.json', scope)\n",
    "client = gspread.authorize(creds)"
   ]
  },
  {
   "cell_type": "markdown",
   "metadata": {},
   "source": [
    "## Historical weather "
   ]
  },
  {
   "cell_type": "code",
   "execution_count": 3,
   "metadata": {},
   "outputs": [],
   "source": [
    "#get historical weather berlin sheet\n",
    "hist_weather = client.open('current_weather_berlin').sheet1\n",
    "\n",
    "data = hist_weather.get_all_values()\n",
    "headers = data.pop(0)\n",
    "\n",
    "df_hist = pd.DataFrame(data, columns=headers)"
   ]
  },
  {
   "cell_type": "code",
   "execution_count": 7,
   "metadata": {},
   "outputs": [
    {
     "data": {
      "text/html": [
       "<div>\n",
       "<style scoped>\n",
       "    .dataframe tbody tr th:only-of-type {\n",
       "        vertical-align: middle;\n",
       "    }\n",
       "\n",
       "    .dataframe tbody tr th {\n",
       "        vertical-align: top;\n",
       "    }\n",
       "\n",
       "    .dataframe thead th {\n",
       "        text-align: right;\n",
       "    }\n",
       "</style>\n",
       "<table border=\"1\" class=\"dataframe\">\n",
       "  <thead>\n",
       "    <tr style=\"text-align: right;\">\n",
       "      <th></th>\n",
       "      <th>datetime</th>\n",
       "      <th>temperature</th>\n",
       "      <th>humidity</th>\n",
       "      <th>pressure</th>\n",
       "      <th>windspeed</th>\n",
       "      <th>winddir</th>\n",
       "      <th>cloudcoverage</th>\n",
       "      <th>weather</th>\n",
       "      <th>description</th>\n",
       "      <th>weathericon</th>\n",
       "      <th>sunrisetime</th>\n",
       "      <th>sunsettime</th>\n",
       "    </tr>\n",
       "  </thead>\n",
       "  <tbody>\n",
       "    <tr>\n",
       "      <th>331</th>\n",
       "      <td>2020-04-02 05:38:00</td>\n",
       "      <td>3.96</td>\n",
       "      <td>75</td>\n",
       "      <td>1013</td>\n",
       "      <td>3.1</td>\n",
       "      <td>250</td>\n",
       "      <td>61</td>\n",
       "      <td>Clouds</td>\n",
       "      <td>broken clouds</td>\n",
       "      <td>04n</td>\n",
       "      <td>06:37:27</td>\n",
       "      <td>19:41:52</td>\n",
       "    </tr>\n",
       "    <tr>\n",
       "      <th>332</th>\n",
       "      <td>2020-04-02 06:38:17</td>\n",
       "      <td>4.08</td>\n",
       "      <td>75</td>\n",
       "      <td>1013</td>\n",
       "      <td>4.6</td>\n",
       "      <td>240</td>\n",
       "      <td>80</td>\n",
       "      <td>Clouds</td>\n",
       "      <td>broken clouds</td>\n",
       "      <td>04d</td>\n",
       "      <td>06:37:27</td>\n",
       "      <td>19:41:52</td>\n",
       "    </tr>\n",
       "    <tr>\n",
       "      <th>333</th>\n",
       "      <td>2020-04-02 07:44:16</td>\n",
       "      <td>4.38</td>\n",
       "      <td>75</td>\n",
       "      <td>1012</td>\n",
       "      <td>4.6</td>\n",
       "      <td>240</td>\n",
       "      <td>80</td>\n",
       "      <td>Clouds</td>\n",
       "      <td>broken clouds</td>\n",
       "      <td>04d</td>\n",
       "      <td>06:37:27</td>\n",
       "      <td>19:41:52</td>\n",
       "    </tr>\n",
       "    <tr>\n",
       "      <th>334</th>\n",
       "      <td>2020-04-02 08:45:27</td>\n",
       "      <td>4.45</td>\n",
       "      <td>80</td>\n",
       "      <td>1012</td>\n",
       "      <td>4.6</td>\n",
       "      <td>260</td>\n",
       "      <td>80</td>\n",
       "      <td>Clouds</td>\n",
       "      <td>broken clouds</td>\n",
       "      <td>04d</td>\n",
       "      <td>06:37:27</td>\n",
       "      <td>19:41:52</td>\n",
       "    </tr>\n",
       "    <tr>\n",
       "      <th>335</th>\n",
       "      <td>2020-04-02 16:47:04</td>\n",
       "      <td>11.27</td>\n",
       "      <td>39</td>\n",
       "      <td>1008</td>\n",
       "      <td>8.2</td>\n",
       "      <td>260</td>\n",
       "      <td>76</td>\n",
       "      <td>Clouds</td>\n",
       "      <td>broken clouds</td>\n",
       "      <td>04d</td>\n",
       "      <td>06:37:27</td>\n",
       "      <td>19:41:52</td>\n",
       "    </tr>\n",
       "  </tbody>\n",
       "</table>\n",
       "</div>"
      ],
      "text/plain": [
       "                datetime temperature humidity pressure windspeed winddir  \\\n",
       "331  2020-04-02 05:38:00        3.96       75     1013       3.1     250   \n",
       "332  2020-04-02 06:38:17        4.08       75     1013       4.6     240   \n",
       "333  2020-04-02 07:44:16        4.38       75     1012       4.6     240   \n",
       "334  2020-04-02 08:45:27        4.45       80     1012       4.6     260   \n",
       "335  2020-04-02 16:47:04       11.27       39     1008       8.2     260   \n",
       "\n",
       "    cloudcoverage weather    description weathericon sunrisetime sunsettime  \n",
       "331            61  Clouds  broken clouds         04n    06:37:27   19:41:52  \n",
       "332            80  Clouds  broken clouds         04d    06:37:27   19:41:52  \n",
       "333            80  Clouds  broken clouds         04d    06:37:27   19:41:52  \n",
       "334            80  Clouds  broken clouds         04d    06:37:27   19:41:52  \n",
       "335            76  Clouds  broken clouds         04d    06:37:27   19:41:52  "
      ]
     },
     "execution_count": 7,
     "metadata": {},
     "output_type": "execute_result"
    }
   ],
   "source": [
    "df_hist.tail()"
   ]
  },
  {
   "cell_type": "markdown",
   "metadata": {},
   "source": [
    "## get Openweathermap forecast "
   ]
  },
  {
   "cell_type": "code",
   "execution_count": 5,
   "metadata": {},
   "outputs": [],
   "source": [
    "#get forecast weather berlin sheet from open weather map\n",
    "#forecast_weather = client.open('forecast_weather_berlin')\n",
    "forecast_weather = client.open('forecast_weather_berlin').sheet1\n",
    "\n",
    "data = forecast_weather.get_all_values()\n",
    "headers = data.pop(0)\n",
    "\n",
    "df_fore = pd.DataFrame(data, columns=headers)"
   ]
  },
  {
   "cell_type": "code",
   "execution_count": 6,
   "metadata": {},
   "outputs": [
    {
     "data": {
      "text/html": [
       "<div>\n",
       "<style scoped>\n",
       "    .dataframe tbody tr th:only-of-type {\n",
       "        vertical-align: middle;\n",
       "    }\n",
       "\n",
       "    .dataframe tbody tr th {\n",
       "        vertical-align: top;\n",
       "    }\n",
       "\n",
       "    .dataframe thead th {\n",
       "        text-align: right;\n",
       "    }\n",
       "</style>\n",
       "<table border=\"1\" class=\"dataframe\">\n",
       "  <thead>\n",
       "    <tr style=\"text-align: right;\">\n",
       "      <th></th>\n",
       "      <th></th>\n",
       "      <th>temp_f</th>\n",
       "      <th>humidity_f</th>\n",
       "      <th>pressure_f</th>\n",
       "      <th>wind_speed_f</th>\n",
       "      <th>wind_dir_f</th>\n",
       "      <th>cloudcoverage_f</th>\n",
       "      <th>weather_f</th>\n",
       "      <th>description_f</th>\n",
       "      <th>icon_f</th>\n",
       "    </tr>\n",
       "  </thead>\n",
       "  <tbody>\n",
       "    <tr>\n",
       "      <th>0</th>\n",
       "      <td>2020-03-31 12:00:00</td>\n",
       "      <td>6.17</td>\n",
       "      <td>61</td>\n",
       "      <td>1030</td>\n",
       "      <td>2.09</td>\n",
       "      <td>347</td>\n",
       "      <td>51</td>\n",
       "      <td>Clouds</td>\n",
       "      <td>broken clouds</td>\n",
       "      <td>04d</td>\n",
       "    </tr>\n",
       "    <tr>\n",
       "      <th>1</th>\n",
       "      <td>2020-03-31 15:00:00</td>\n",
       "      <td>6.36</td>\n",
       "      <td>60</td>\n",
       "      <td>1029</td>\n",
       "      <td>2.83</td>\n",
       "      <td>315</td>\n",
       "      <td>100</td>\n",
       "      <td>Clouds</td>\n",
       "      <td>overcast clouds</td>\n",
       "      <td>04d</td>\n",
       "    </tr>\n",
       "    <tr>\n",
       "      <th>2</th>\n",
       "      <td>2020-03-31 18:00:00</td>\n",
       "      <td>3.3</td>\n",
       "      <td>75</td>\n",
       "      <td>1028</td>\n",
       "      <td>2.27</td>\n",
       "      <td>302</td>\n",
       "      <td>89</td>\n",
       "      <td>Clouds</td>\n",
       "      <td>overcast clouds</td>\n",
       "      <td>04n</td>\n",
       "    </tr>\n",
       "    <tr>\n",
       "      <th>3</th>\n",
       "      <td>2020-03-31 21:00:00</td>\n",
       "      <td>1.56</td>\n",
       "      <td>82</td>\n",
       "      <td>1028</td>\n",
       "      <td>1.9</td>\n",
       "      <td>258</td>\n",
       "      <td>0</td>\n",
       "      <td>Clear</td>\n",
       "      <td>clear sky</td>\n",
       "      <td>01n</td>\n",
       "    </tr>\n",
       "    <tr>\n",
       "      <th>4</th>\n",
       "      <td>2020-04-01 00:00:00</td>\n",
       "      <td>0.25</td>\n",
       "      <td>86</td>\n",
       "      <td>1026</td>\n",
       "      <td>3.21</td>\n",
       "      <td>245</td>\n",
       "      <td>0</td>\n",
       "      <td>Clear</td>\n",
       "      <td>clear sky</td>\n",
       "      <td>01n</td>\n",
       "    </tr>\n",
       "  </tbody>\n",
       "</table>\n",
       "</div>"
      ],
      "text/plain": [
       "                       temp_f humidity_f pressure_f wind_speed_f wind_dir_f  \\\n",
       "0  2020-03-31 12:00:00   6.17         61       1030         2.09        347   \n",
       "1  2020-03-31 15:00:00   6.36         60       1029         2.83        315   \n",
       "2  2020-03-31 18:00:00    3.3         75       1028         2.27        302   \n",
       "3  2020-03-31 21:00:00   1.56         82       1028          1.9        258   \n",
       "4  2020-04-01 00:00:00   0.25         86       1026         3.21        245   \n",
       "\n",
       "  cloudcoverage_f weather_f    description_f icon_f  \n",
       "0              51    Clouds    broken clouds    04d  \n",
       "1             100    Clouds  overcast clouds    04d  \n",
       "2              89    Clouds  overcast clouds    04n  \n",
       "3               0     Clear        clear sky    01n  \n",
       "4               0     Clear        clear sky    01n  "
      ]
     },
     "execution_count": 6,
     "metadata": {},
     "output_type": "execute_result"
    }
   ],
   "source": [
    "df_fore.head()"
   ]
  },
  {
   "cell_type": "markdown",
   "metadata": {},
   "source": [
    "# Wrangle"
   ]
  },
  {
   "cell_type": "markdown",
   "metadata": {},
   "source": [
    "## column rename "
   ]
  },
  {
   "cell_type": "code",
   "execution_count": 25,
   "metadata": {},
   "outputs": [
    {
     "data": {
      "text/plain": [
       "Index(['', 'a', 'humidity_f', 'pressure_f', 'wind_speed_f', 'wind_dir_f',\n",
       "       'cloudcoverage_f', 'weather_f', 'description_f', 'icon_f'],\n",
       "      dtype='object')"
      ]
     },
     "execution_count": 25,
     "metadata": {},
     "output_type": "execute_result"
    }
   ],
   "source": [
    "df_fore.rename(columns={\n",
    "    '':'datetime'\n",
    "    \"temp_f\": \"temperature\",\n",
    "    \"humidity_f\": \"temperature\",\n",
    "    \"pressure_f\": \"temperature\",\n",
    "    \"wind_speed_f\": \"temperature\",\n",
    "    \"wind_dir_f\": \"temperature\"},inplace=True)\n",
    "df_fore.columns"
   ]
  },
  {
   "cell_type": "markdown",
   "metadata": {},
   "source": [
    "## join df"
   ]
  },
  {
   "cell_type": "code",
   "execution_count": 19,
   "metadata": {},
   "outputs": [],
   "source": [
    "combo=[df_hist,df_fore]"
   ]
  },
  {
   "cell_type": "markdown",
   "metadata": {
    "code_folding": []
   },
   "source": [
    "## drop icon"
   ]
  },
  {
   "cell_type": "code",
   "execution_count": null,
   "metadata": {},
   "outputs": [],
   "source": [
    "for df in combo:\n",
    "    df.drop('weathericon',axis =1, inplace=True)"
   ]
  },
  {
   "cell_type": "code",
   "execution_count": 15,
   "metadata": {},
   "outputs": [
    {
     "data": {
      "text/html": [
       "<div>\n",
       "<style scoped>\n",
       "    .dataframe tbody tr th:only-of-type {\n",
       "        vertical-align: middle;\n",
       "    }\n",
       "\n",
       "    .dataframe tbody tr th {\n",
       "        vertical-align: top;\n",
       "    }\n",
       "\n",
       "    .dataframe thead th {\n",
       "        text-align: right;\n",
       "    }\n",
       "</style>\n",
       "<table border=\"1\" class=\"dataframe\">\n",
       "  <thead>\n",
       "    <tr style=\"text-align: right;\">\n",
       "      <th></th>\n",
       "      <th>temperature</th>\n",
       "      <th>humidity</th>\n",
       "      <th>pressure</th>\n",
       "      <th>windspeed</th>\n",
       "      <th>cloudcoverage</th>\n",
       "    </tr>\n",
       "  </thead>\n",
       "  <tbody>\n",
       "    <tr>\n",
       "      <th>0</th>\n",
       "      <td>13.91</td>\n",
       "      <td>71.0</td>\n",
       "      <td>1025.0</td>\n",
       "      <td>4.1</td>\n",
       "      <td>75.0</td>\n",
       "    </tr>\n",
       "    <tr>\n",
       "      <th>1</th>\n",
       "      <td>13.81</td>\n",
       "      <td>67.0</td>\n",
       "      <td>1025.0</td>\n",
       "      <td>3.6</td>\n",
       "      <td>75.0</td>\n",
       "    </tr>\n",
       "    <tr>\n",
       "      <th>2</th>\n",
       "      <td>13.48</td>\n",
       "      <td>71.0</td>\n",
       "      <td>1025.0</td>\n",
       "      <td>3.6</td>\n",
       "      <td>75.0</td>\n",
       "    </tr>\n",
       "    <tr>\n",
       "      <th>3</th>\n",
       "      <td>13.65</td>\n",
       "      <td>67.0</td>\n",
       "      <td>1025.0</td>\n",
       "      <td>3.1</td>\n",
       "      <td>40.0</td>\n",
       "    </tr>\n",
       "    <tr>\n",
       "      <th>4</th>\n",
       "      <td>13.26</td>\n",
       "      <td>71.0</td>\n",
       "      <td>1025.0</td>\n",
       "      <td>3.6</td>\n",
       "      <td>40.0</td>\n",
       "    </tr>\n",
       "    <tr>\n",
       "      <th>...</th>\n",
       "      <td>...</td>\n",
       "      <td>...</td>\n",
       "      <td>...</td>\n",
       "      <td>...</td>\n",
       "      <td>...</td>\n",
       "    </tr>\n",
       "    <tr>\n",
       "      <th>331</th>\n",
       "      <td>3.96</td>\n",
       "      <td>75.0</td>\n",
       "      <td>1013.0</td>\n",
       "      <td>3.1</td>\n",
       "      <td>61.0</td>\n",
       "    </tr>\n",
       "    <tr>\n",
       "      <th>332</th>\n",
       "      <td>4.08</td>\n",
       "      <td>75.0</td>\n",
       "      <td>1013.0</td>\n",
       "      <td>4.6</td>\n",
       "      <td>80.0</td>\n",
       "    </tr>\n",
       "    <tr>\n",
       "      <th>333</th>\n",
       "      <td>4.38</td>\n",
       "      <td>75.0</td>\n",
       "      <td>1012.0</td>\n",
       "      <td>4.6</td>\n",
       "      <td>80.0</td>\n",
       "    </tr>\n",
       "    <tr>\n",
       "      <th>334</th>\n",
       "      <td>4.45</td>\n",
       "      <td>80.0</td>\n",
       "      <td>1012.0</td>\n",
       "      <td>4.6</td>\n",
       "      <td>80.0</td>\n",
       "    </tr>\n",
       "    <tr>\n",
       "      <th>335</th>\n",
       "      <td>11.27</td>\n",
       "      <td>39.0</td>\n",
       "      <td>1008.0</td>\n",
       "      <td>8.2</td>\n",
       "      <td>76.0</td>\n",
       "    </tr>\n",
       "  </tbody>\n",
       "</table>\n",
       "<p>336 rows × 5 columns</p>\n",
       "</div>"
      ],
      "text/plain": [
       "     temperature  humidity  pressure  windspeed  cloudcoverage\n",
       "0          13.91      71.0    1025.0        4.1           75.0\n",
       "1          13.81      67.0    1025.0        3.6           75.0\n",
       "2          13.48      71.0    1025.0        3.6           75.0\n",
       "3          13.65      67.0    1025.0        3.1           40.0\n",
       "4          13.26      71.0    1025.0        3.6           40.0\n",
       "..           ...       ...       ...        ...            ...\n",
       "331         3.96      75.0    1013.0        3.1           61.0\n",
       "332         4.08      75.0    1013.0        4.6           80.0\n",
       "333         4.38      75.0    1012.0        4.6           80.0\n",
       "334         4.45      80.0    1012.0        4.6           80.0\n",
       "335        11.27      39.0    1008.0        8.2           76.0\n",
       "\n",
       "[336 rows x 5 columns]"
      ]
     },
     "execution_count": 15,
     "metadata": {},
     "output_type": "execute_result"
    }
   ],
   "source": [
    "df_hist[['temperature','humidity','pressure','windspeed','cloudcoverage']].astype(float)"
   ]
  },
  {
   "cell_type": "code",
   "execution_count": 16,
   "metadata": {},
   "outputs": [
    {
     "data": {
      "text/html": [
       "<div>\n",
       "<style scoped>\n",
       "    .dataframe tbody tr th:only-of-type {\n",
       "        vertical-align: middle;\n",
       "    }\n",
       "\n",
       "    .dataframe tbody tr th {\n",
       "        vertical-align: top;\n",
       "    }\n",
       "\n",
       "    .dataframe thead th {\n",
       "        text-align: right;\n",
       "    }\n",
       "</style>\n",
       "<table border=\"1\" class=\"dataframe\">\n",
       "  <thead>\n",
       "    <tr style=\"text-align: right;\">\n",
       "      <th></th>\n",
       "      <th>datetime</th>\n",
       "      <th>temperature</th>\n",
       "      <th>humidity</th>\n",
       "      <th>pressure</th>\n",
       "      <th>windspeed</th>\n",
       "      <th>winddir</th>\n",
       "      <th>cloudcoverage</th>\n",
       "      <th>weather</th>\n",
       "      <th>description</th>\n",
       "      <th>sunrisetime</th>\n",
       "      <th>sunsettime</th>\n",
       "    </tr>\n",
       "  </thead>\n",
       "  <tbody>\n",
       "    <tr>\n",
       "      <th>0</th>\n",
       "      <td>2020-03-19 11:45:50</td>\n",
       "      <td>13.91</td>\n",
       "      <td>71</td>\n",
       "      <td>1025</td>\n",
       "      <td>4.1</td>\n",
       "      <td>290</td>\n",
       "      <td>75</td>\n",
       "      <td>Clouds</td>\n",
       "      <td>broken clouds</td>\n",
       "      <td>06:10:36</td>\n",
       "      <td>18:17:28</td>\n",
       "    </tr>\n",
       "    <tr>\n",
       "      <th>1</th>\n",
       "      <td>2020-03-19 12:50:48</td>\n",
       "      <td>13.81</td>\n",
       "      <td>67</td>\n",
       "      <td>1025</td>\n",
       "      <td>3.6</td>\n",
       "      <td>330</td>\n",
       "      <td>75</td>\n",
       "      <td>Clouds</td>\n",
       "      <td>broken clouds</td>\n",
       "      <td>06:10:36</td>\n",
       "      <td>18:17:28</td>\n",
       "    </tr>\n",
       "    <tr>\n",
       "      <th>2</th>\n",
       "      <td>2020-03-19 13:46:46</td>\n",
       "      <td>13.48</td>\n",
       "      <td>71</td>\n",
       "      <td>1025</td>\n",
       "      <td>3.6</td>\n",
       "      <td>350</td>\n",
       "      <td>75</td>\n",
       "      <td>Clouds</td>\n",
       "      <td>broken clouds</td>\n",
       "      <td>06:10:36</td>\n",
       "      <td>18:17:28</td>\n",
       "    </tr>\n",
       "    <tr>\n",
       "      <th>3</th>\n",
       "      <td>2020-03-19 14:52:21</td>\n",
       "      <td>13.65</td>\n",
       "      <td>67</td>\n",
       "      <td>1025</td>\n",
       "      <td>3.1</td>\n",
       "      <td>360</td>\n",
       "      <td>40</td>\n",
       "      <td>Clouds</td>\n",
       "      <td>scattered clouds</td>\n",
       "      <td>06:10:36</td>\n",
       "      <td>18:17:28</td>\n",
       "    </tr>\n",
       "    <tr>\n",
       "      <th>4</th>\n",
       "      <td>2020-03-19 15:52:40</td>\n",
       "      <td>13.26</td>\n",
       "      <td>71</td>\n",
       "      <td>1025</td>\n",
       "      <td>3.6</td>\n",
       "      <td>340</td>\n",
       "      <td>40</td>\n",
       "      <td>Clouds</td>\n",
       "      <td>scattered clouds</td>\n",
       "      <td>06:10:36</td>\n",
       "      <td>18:17:28</td>\n",
       "    </tr>\n",
       "  </tbody>\n",
       "</table>\n",
       "</div>"
      ],
      "text/plain": [
       "              datetime temperature humidity pressure windspeed winddir  \\\n",
       "0  2020-03-19 11:45:50       13.91       71     1025       4.1     290   \n",
       "1  2020-03-19 12:50:48       13.81       67     1025       3.6     330   \n",
       "2  2020-03-19 13:46:46       13.48       71     1025       3.6     350   \n",
       "3  2020-03-19 14:52:21       13.65       67     1025       3.1     360   \n",
       "4  2020-03-19 15:52:40       13.26       71     1025       3.6     340   \n",
       "\n",
       "  cloudcoverage weather       description sunrisetime sunsettime  \n",
       "0            75  Clouds     broken clouds    06:10:36   18:17:28  \n",
       "1            75  Clouds     broken clouds    06:10:36   18:17:28  \n",
       "2            75  Clouds     broken clouds    06:10:36   18:17:28  \n",
       "3            40  Clouds  scattered clouds    06:10:36   18:17:28  \n",
       "4            40  Clouds  scattered clouds    06:10:36   18:17:28  "
      ]
     },
     "execution_count": 16,
     "metadata": {},
     "output_type": "execute_result"
    }
   ],
   "source": [
    "df_hist.head()"
   ]
  },
  {
   "cell_type": "code",
   "execution_count": 17,
   "metadata": {},
   "outputs": [
    {
     "data": {
      "text/html": [
       "<div>\n",
       "<style scoped>\n",
       "    .dataframe tbody tr th:only-of-type {\n",
       "        vertical-align: middle;\n",
       "    }\n",
       "\n",
       "    .dataframe tbody tr th {\n",
       "        vertical-align: top;\n",
       "    }\n",
       "\n",
       "    .dataframe thead th {\n",
       "        text-align: right;\n",
       "    }\n",
       "</style>\n",
       "<table border=\"1\" class=\"dataframe\">\n",
       "  <thead>\n",
       "    <tr style=\"text-align: right;\">\n",
       "      <th></th>\n",
       "      <th>datetime</th>\n",
       "      <th>temperature</th>\n",
       "      <th>humidity</th>\n",
       "      <th>pressure</th>\n",
       "      <th>windspeed</th>\n",
       "      <th>winddir</th>\n",
       "      <th>cloudcoverage</th>\n",
       "      <th>weather</th>\n",
       "      <th>description</th>\n",
       "      <th>sunrisetime</th>\n",
       "      <th>sunsettime</th>\n",
       "    </tr>\n",
       "  </thead>\n",
       "  <tbody>\n",
       "    <tr>\n",
       "      <th>count</th>\n",
       "      <td>336</td>\n",
       "      <td>336</td>\n",
       "      <td>336</td>\n",
       "      <td>336</td>\n",
       "      <td>336</td>\n",
       "      <td>336</td>\n",
       "      <td>336</td>\n",
       "      <td>336</td>\n",
       "      <td>336</td>\n",
       "      <td>336</td>\n",
       "      <td>336</td>\n",
       "    </tr>\n",
       "    <tr>\n",
       "      <th>unique</th>\n",
       "      <td>335</td>\n",
       "      <td>300</td>\n",
       "      <td>71</td>\n",
       "      <td>31</td>\n",
       "      <td>15</td>\n",
       "      <td>28</td>\n",
       "      <td>38</td>\n",
       "      <td>5</td>\n",
       "      <td>9</td>\n",
       "      <td>15</td>\n",
       "      <td>15</td>\n",
       "    </tr>\n",
       "    <tr>\n",
       "      <th>top</th>\n",
       "      <td>2020-03-31 13:29:30</td>\n",
       "      <td>4.94</td>\n",
       "      <td>47</td>\n",
       "      <td>1025</td>\n",
       "      <td>3.1</td>\n",
       "      <td>50</td>\n",
       "      <td>0</td>\n",
       "      <td>Clear</td>\n",
       "      <td>clear sky</td>\n",
       "      <td>06:42:09</td>\n",
       "      <td>19:38:23</td>\n",
       "    </tr>\n",
       "    <tr>\n",
       "      <th>freq</th>\n",
       "      <td>2</td>\n",
       "      <td>3</td>\n",
       "      <td>11</td>\n",
       "      <td>34</td>\n",
       "      <td>63</td>\n",
       "      <td>27</td>\n",
       "      <td>146</td>\n",
       "      <td>168</td>\n",
       "      <td>168</td>\n",
       "      <td>27</td>\n",
       "      <td>27</td>\n",
       "    </tr>\n",
       "  </tbody>\n",
       "</table>\n",
       "</div>"
      ],
      "text/plain": [
       "                   datetime temperature humidity pressure windspeed winddir  \\\n",
       "count                   336         336      336      336       336     336   \n",
       "unique                  335         300       71       31        15      28   \n",
       "top     2020-03-31 13:29:30        4.94       47     1025       3.1      50   \n",
       "freq                      2           3       11       34        63      27   \n",
       "\n",
       "       cloudcoverage weather description sunrisetime sunsettime  \n",
       "count            336     336         336         336        336  \n",
       "unique            38       5           9          15         15  \n",
       "top                0   Clear   clear sky    06:42:09   19:38:23  \n",
       "freq             146     168         168          27         27  "
      ]
     },
     "execution_count": 17,
     "metadata": {},
     "output_type": "execute_result"
    }
   ],
   "source": [
    "df_hist.describe(include='all')"
   ]
  },
  {
   "cell_type": "code",
   "execution_count": 18,
   "metadata": {},
   "outputs": [
    {
     "data": {
      "text/plain": [
       "'13.81'"
      ]
     },
     "execution_count": 18,
     "metadata": {},
     "output_type": "execute_result"
    }
   ],
   "source": [
    "df_hist.temperature.iloc[1]"
   ]
  },
  {
   "cell_type": "code",
   "execution_count": null,
   "metadata": {},
   "outputs": [],
   "source": []
  },
  {
   "cell_type": "code",
   "execution_count": null,
   "metadata": {},
   "outputs": [],
   "source": []
  },
  {
   "cell_type": "code",
   "execution_count": null,
   "metadata": {},
   "outputs": [],
   "source": [
    "df_hist.drop('weathericon',axis =1, inplace=True)\n",
    "df_hist.head()"
   ]
  },
  {
   "cell_type": "code",
   "execution_count": null,
   "metadata": {},
   "outputs": [],
   "source": []
  }
 ],
 "metadata": {
  "kernelspec": {
   "display_name": "Python 3",
   "language": "python",
   "name": "python3"
  },
  "language_info": {
   "codemirror_mode": {
    "name": "ipython",
    "version": 3
   },
   "file_extension": ".py",
   "mimetype": "text/x-python",
   "name": "python",
   "nbconvert_exporter": "python",
   "pygments_lexer": "ipython3",
   "version": "3.7.4"
  },
  "toc": {
   "base_numbering": 1,
   "nav_menu": {},
   "number_sections": true,
   "sideBar": true,
   "skip_h1_title": false,
   "title_cell": "Table of Contents",
   "title_sidebar": "Contents",
   "toc_cell": false,
   "toc_position": {},
   "toc_section_display": true,
   "toc_window_display": false
  },
  "varInspector": {
   "cols": {
    "lenName": 16,
    "lenType": 16,
    "lenVar": 40
   },
   "kernels_config": {
    "python": {
     "delete_cmd_postfix": "",
     "delete_cmd_prefix": "del ",
     "library": "var_list.py",
     "varRefreshCmd": "print(var_dic_list())"
    },
    "r": {
     "delete_cmd_postfix": ") ",
     "delete_cmd_prefix": "rm(",
     "library": "var_list.r",
     "varRefreshCmd": "cat(var_dic_list()) "
    }
   },
   "types_to_exclude": [
    "module",
    "function",
    "builtin_function_or_method",
    "instance",
    "_Feature"
   ],
   "window_display": false
  }
 },
 "nbformat": 4,
 "nbformat_minor": 2
}
