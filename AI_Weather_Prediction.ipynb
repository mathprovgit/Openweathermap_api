{
 "cells": [
  {
   "cell_type": "markdown",
   "metadata": {},
   "source": [
    "# Objectives"
   ]
  },
  {
   "cell_type": "markdown",
   "metadata": {},
   "source": [
    "- [x] get data from database\n",
    "- [ ] data wrangling\n",
    "- [ ] ml model \n",
    "- [ ] compare with traditional prediction"
   ]
  },
  {
   "cell_type": "markdown",
   "metadata": {},
   "source": [
    "# source"
   ]
  },
  {
   "cell_type": "markdown",
   "metadata": {},
   "source": [
    " data provided by Openweathermap"
   ]
  },
  {
   "cell_type": "markdown",
   "metadata": {},
   "source": [
    "# settings"
   ]
  },
  {
   "cell_type": "code",
   "execution_count": 71,
   "metadata": {},
   "outputs": [],
   "source": [
    "# settings\n",
    "# display all outputs\n",
    "from IPython.core.interactiveshell import InteractiveShell  \n",
    "InteractiveShell.ast_node_interactivity = \"all\"\n",
    "#To revert to the original setting :\n",
    "# InteractiveShell.ast_node_interactivity = \"last_expr\""
   ]
  },
  {
   "cell_type": "markdown",
   "metadata": {},
   "source": [
    "# Imports"
   ]
  },
  {
   "cell_type": "code",
   "execution_count": 128,
   "metadata": {},
   "outputs": [],
   "source": [
    "# os\n",
    "import os\n",
    "\n",
    "#import time\n",
    "import time\n",
    "import datetime as dt\n",
    "\n",
    "#googlesheets\n",
    "import gspread\n",
    "from oauth2client.service_account import ServiceAccountCredentials\n",
    "from df2gspread import df2gspread as d2g\n",
    "\n",
    "# data analysis and wrangling\n",
    "import numpy as np # linear algebra\n",
    "import pandas as pd # data processing, CSV file I/O (e.g. pd.read_csv)\n",
    "import random \n",
    "\n",
    "# visualization and reporting\n",
    "import pandas_profiling # dataframe profiling @\n",
    "import seaborn as sns\n",
    "import matplotlib.pyplot as plt\n",
    "%matplotlib inline\n",
    "import calmap\n",
    "\n",
    "# Humid air model\n",
    "from media_model_humid_air import h_humid_air,T_dew, rho_Humid_air, Ha_air\n"
   ]
  },
  {
   "cell_type": "markdown",
   "metadata": {},
   "source": [
    "# Data imports"
   ]
  },
  {
   "cell_type": "markdown",
   "metadata": {},
   "source": [
    "## Historical weather "
   ]
  },
  {
   "cell_type": "markdown",
   "metadata": {},
   "source": [
    "### google sheet authentication"
   ]
  },
  {
   "cell_type": "code",
   "execution_count": 73,
   "metadata": {},
   "outputs": [],
   "source": [
    "#authentication to google api using JSON credential file\n",
    "scope = ['https://spreadsheets.google.com/feeds','https://www.googleapis.com/auth/drive']\n",
    "creds = ServiceAccountCredentials.from_json_keyfile_name('api_data/WDcred.json', scope)\n",
    "client = gspread.authorize(creds)"
   ]
  },
  {
   "cell_type": "markdown",
   "metadata": {},
   "source": [
    "### get data"
   ]
  },
  {
   "cell_type": "code",
   "execution_count": 74,
   "metadata": {},
   "outputs": [],
   "source": [
    "#get historical weather berlin sheet\n",
    "hist_weather = client.open('current_weather_berlin').sheet1\n",
    "\n",
    "data = hist_weather.get_all_values()\n",
    "headers = data.pop(0)\n",
    "\n",
    "df_historical = pd.DataFrame(data, columns=headers)"
   ]
  },
  {
   "cell_type": "code",
   "execution_count": 75,
   "metadata": {},
   "outputs": [],
   "source": [
    "#df_historical.tail()"
   ]
  },
  {
   "cell_type": "markdown",
   "metadata": {},
   "source": [
    "## get Openweathermap forecast "
   ]
  },
  {
   "cell_type": "markdown",
   "metadata": {},
   "source": [
    "###  Authentication"
   ]
  },
  {
   "cell_type": "code",
   "execution_count": 76,
   "metadata": {},
   "outputs": [],
   "source": [
    "#authentication to google api using JSON credential file\n",
    "scope = ['https://spreadsheets.google.com/feeds','https://www.googleapis.com/auth/drive']\n",
    "creds = ServiceAccountCredentials.from_json_keyfile_name('api_data/WDcred2.json', scope)\n",
    "client = gspread.authorize(creds)"
   ]
  },
  {
   "cell_type": "markdown",
   "metadata": {},
   "source": [
    "### Get Data"
   ]
  },
  {
   "cell_type": "code",
   "execution_count": 77,
   "metadata": {},
   "outputs": [],
   "source": [
    "# open workbook\n",
    "forecast_weather = client.open('forecast_weather_berlin')"
   ]
  },
  {
   "cell_type": "code",
   "execution_count": 78,
   "metadata": {},
   "outputs": [
    {
     "data": {
      "text/plain": [
       "[<Worksheet '6 th' id:1595407820>,\n",
       " <Worksheet '0 th' id:515115632>,\n",
       " <Worksheet '1 th' id:1164675889>,\n",
       " <Worksheet '2 th' id:136134104>]"
      ]
     },
     "execution_count": 78,
     "metadata": {},
     "output_type": "execute_result"
    }
   ],
   "source": [
    "#see all worksheets\n",
    "#forecast_weather.worksheets()"
   ]
  },
  {
   "cell_type": "code",
   "execution_count": 79,
   "metadata": {},
   "outputs": [],
   "source": [
    "# dataframe dictionary with all data\n",
    "my_dfs={}\n",
    "for worksheet in forecast_weather.worksheets():\n",
    "    data = worksheet.get_all_values()\n",
    "    headers = data.pop(0)\n",
    "    name = str(worksheet)\n",
    "    name = \"df_\"+name.split(\"'\")[1].split(\" \")[0]  \n",
    "    df = pd.DataFrame(data, columns=headers)\n",
    "    my_dfs[name]=df\n",
    "  "
   ]
  },
  {
   "cell_type": "code",
   "execution_count": 80,
   "metadata": {},
   "outputs": [],
   "source": [
    "#display data\n",
    "if False:\n",
    "    for key in my_dfs.keys():\n",
    "        print(40*'-'+'\\n'+key)\n",
    "        my_dfs[key].head(5)\n",
    "        print(40*'-')"
   ]
  },
  {
   "cell_type": "code",
   "execution_count": 81,
   "metadata": {},
   "outputs": [],
   "source": [
    "df_hist=df_historical\n",
    "my_dfs2=my_dfs"
   ]
  },
  {
   "cell_type": "code",
   "execution_count": 87,
   "metadata": {},
   "outputs": [
    {
     "data": {
      "text/html": [
       "<div>\n",
       "<style scoped>\n",
       "    .dataframe tbody tr th:only-of-type {\n",
       "        vertical-align: middle;\n",
       "    }\n",
       "\n",
       "    .dataframe tbody tr th {\n",
       "        vertical-align: top;\n",
       "    }\n",
       "\n",
       "    .dataframe thead th {\n",
       "        text-align: right;\n",
       "    }\n",
       "</style>\n",
       "<table border=\"1\" class=\"dataframe\">\n",
       "  <thead>\n",
       "    <tr style=\"text-align: right;\">\n",
       "      <th></th>\n",
       "      <th>datetime</th>\n",
       "      <th>temperature</th>\n",
       "      <th>humidity</th>\n",
       "      <th>pressure</th>\n",
       "      <th>windspeed</th>\n",
       "      <th>winddir</th>\n",
       "      <th>cloudcoverage</th>\n",
       "      <th>rain</th>\n",
       "      <th>snow</th>\n",
       "      <th>weather</th>\n",
       "      <th>description</th>\n",
       "    </tr>\n",
       "  </thead>\n",
       "  <tbody>\n",
       "    <tr>\n",
       "      <th>465</th>\n",
       "      <td>2020-04-08 08:34:55</td>\n",
       "      <td>9.73</td>\n",
       "      <td>53</td>\n",
       "      <td>1030</td>\n",
       "      <td>2.6</td>\n",
       "      <td>70</td>\n",
       "      <td>3</td>\n",
       "      <td>0</td>\n",
       "      <td>0</td>\n",
       "      <td>Clear</td>\n",
       "      <td>clear sky</td>\n",
       "    </tr>\n",
       "    <tr>\n",
       "      <th>466</th>\n",
       "      <td>2020-04-08 09:36:05</td>\n",
       "      <td>12.88</td>\n",
       "      <td>47</td>\n",
       "      <td>1030</td>\n",
       "      <td>5.1</td>\n",
       "      <td>130</td>\n",
       "      <td>0</td>\n",
       "      <td>0</td>\n",
       "      <td>0</td>\n",
       "      <td>Clear</td>\n",
       "      <td>clear sky</td>\n",
       "    </tr>\n",
       "    <tr>\n",
       "      <th>467</th>\n",
       "      <td>2020-04-08 10:33:15</td>\n",
       "      <td>14.8</td>\n",
       "      <td>44</td>\n",
       "      <td>1029</td>\n",
       "      <td>4.1</td>\n",
       "      <td>110</td>\n",
       "      <td>1</td>\n",
       "      <td>0</td>\n",
       "      <td>0</td>\n",
       "      <td>Clear</td>\n",
       "      <td>clear sky</td>\n",
       "    </tr>\n",
       "    <tr>\n",
       "      <th>468</th>\n",
       "      <td>2020-04-08 11:30:55</td>\n",
       "      <td>16.61</td>\n",
       "      <td>42</td>\n",
       "      <td>1029</td>\n",
       "      <td>3.6</td>\n",
       "      <td>120</td>\n",
       "      <td>1</td>\n",
       "      <td>0</td>\n",
       "      <td>0</td>\n",
       "      <td>Clear</td>\n",
       "      <td>clear sky</td>\n",
       "    </tr>\n",
       "    <tr>\n",
       "      <th>469</th>\n",
       "      <td>2020-04-08 12:31:39</td>\n",
       "      <td>19.59</td>\n",
       "      <td>39</td>\n",
       "      <td>1028</td>\n",
       "      <td>3.1</td>\n",
       "      <td>140</td>\n",
       "      <td>1</td>\n",
       "      <td>0</td>\n",
       "      <td>0</td>\n",
       "      <td>Clear</td>\n",
       "      <td>clear sky</td>\n",
       "    </tr>\n",
       "  </tbody>\n",
       "</table>\n",
       "</div>"
      ],
      "text/plain": [
       "                datetime temperature humidity pressure windspeed winddir  \\\n",
       "465  2020-04-08 08:34:55        9.73       53     1030       2.6      70   \n",
       "466  2020-04-08 09:36:05       12.88       47     1030       5.1     130   \n",
       "467  2020-04-08 10:33:15        14.8       44     1029       4.1     110   \n",
       "468  2020-04-08 11:30:55       16.61       42     1029       3.6     120   \n",
       "469  2020-04-08 12:31:39       19.59       39     1028       3.1     140   \n",
       "\n",
       "    cloudcoverage rain snow weather description  \n",
       "465             3    0    0   Clear   clear sky  \n",
       "466             0    0    0   Clear   clear sky  \n",
       "467             1    0    0   Clear   clear sky  \n",
       "468             1    0    0   Clear   clear sky  \n",
       "469             1    0    0   Clear   clear sky  "
      ]
     },
     "execution_count": 87,
     "metadata": {},
     "output_type": "execute_result"
    }
   ],
   "source": [
    "df_historical.tail()"
   ]
  },
  {
   "cell_type": "markdown",
   "metadata": {},
   "source": [
    "# Wrangle"
   ]
  },
  {
   "cell_type": "markdown",
   "metadata": {},
   "source": [
    "## get ride of sunrise and sunset"
   ]
  },
  {
   "cell_type": "code",
   "execution_count": 83,
   "metadata": {},
   "outputs": [],
   "source": [
    "df_hist.drop('sunrisetime',axis =1, inplace=True)\n",
    "df_hist.drop('sunsettime',axis =1, inplace=True)"
   ]
  },
  {
   "cell_type": "markdown",
   "metadata": {},
   "source": [
    "## df_forecast column rename "
   ]
  },
  {
   "cell_type": "code",
   "execution_count": 84,
   "metadata": {},
   "outputs": [],
   "source": [
    "for key in my_dfs2.keys():\n",
    "    my_dfs2[key].rename(columns={\n",
    "        '':'datetime',\n",
    "        \"temp\": \"temperature\",\n",
    "        \"humidity\": \"humidity\",\n",
    "        \"pressure\": \"pressure\",\n",
    "        \"wind_speed\": \"windspeed\",\n",
    "        \"wind_dir\": \"winddir\",\n",
    "        \"rain3h\":\"rain\",\n",
    "        \"snow3h\":\"snow\",\n",
    "        \"cloudcoverage\": \"cloudcoverage\",\n",
    "        \"weather\": \"weather\",\n",
    "        \"description\": \"description\",\n",
    "        \"icon\": \"weathericon\"},inplace=True)\n",
    "#df_fore.columns"
   ]
  },
  {
   "cell_type": "markdown",
   "metadata": {},
   "source": [
    "## join df"
   ]
  },
  {
   "cell_type": "code",
   "execution_count": 85,
   "metadata": {},
   "outputs": [],
   "source": [
    "name='df_c'\n",
    "my_dfs2[name]=df_hist"
   ]
  },
  {
   "cell_type": "markdown",
   "metadata": {
    "code_folding": []
   },
   "source": [
    "## drop icon"
   ]
  },
  {
   "cell_type": "code",
   "execution_count": 86,
   "metadata": {},
   "outputs": [],
   "source": [
    "for key in my_dfs2.keys():\n",
    "    my_dfs2[key].drop('weathericon',axis =1, inplace=True)"
   ]
  },
  {
   "cell_type": "markdown",
   "metadata": {},
   "source": [
    "## string to numeric values"
   ]
  },
  {
   "cell_type": "code",
   "execution_count": 88,
   "metadata": {
    "scrolled": false
   },
   "outputs": [],
   "source": [
    "for key in my_dfs2.keys():\n",
    "    cols=['temperature', 'humidity', 'pressure', 'windspeed','winddir','cloudcoverage','rain','snow']\n",
    "    for col in cols:\n",
    "        my_dfs2[key][col]= pd.to_numeric(my_dfs2[key][col], errors='coerce')"
   ]
  },
  {
   "cell_type": "markdown",
   "metadata": {},
   "source": [
    "## String to datetime"
   ]
  },
  {
   "cell_type": "code",
   "execution_count": 89,
   "metadata": {},
   "outputs": [],
   "source": [
    "for key in my_dfs2.keys():\n",
    "    my_dfs2[key]['datetime']= pd.to_datetime(my_dfs2[key]['datetime'], errors='coerce') "
   ]
  },
  {
   "cell_type": "markdown",
   "metadata": {},
   "source": [
    "## weather and description"
   ]
  },
  {
   "cell_type": "code",
   "execution_count": 90,
   "metadata": {},
   "outputs": [],
   "source": [
    "for key in my_dfs2.keys():\n",
    "    my_dfs2[key]['weather_description']=my_dfs2[key]['weather']+' : '+my_dfs2[key]['description']\n",
    "    my_dfs2[key].drop(['weather','description'],axis=1,inplace=True)"
   ]
  },
  {
   "cell_type": "markdown",
   "metadata": {},
   "source": [
    "## Deal with Na"
   ]
  },
  {
   "cell_type": "code",
   "execution_count": 91,
   "metadata": {},
   "outputs": [],
   "source": [
    "for key in my_dfs2.keys():\n",
    "    my_dfs2[key]['winddir'].fillna(399,inplace=True)"
   ]
  },
  {
   "cell_type": "markdown",
   "metadata": {},
   "source": [
    "## Creation new value"
   ]
  },
  {
   "cell_type": "code",
   "execution_count": 92,
   "metadata": {},
   "outputs": [],
   "source": [
    "for key in my_dfs2.keys():  \n",
    "    # absolute humidity\n",
    "    my_dfs2[key]['humidity_abs']=round(my_dfs2[key].apply(lambda x: Ha_air(x['temperature']+273.15,x['humidity']),axis=1),4)\n",
    "    # entalpy\n",
    "    my_dfs2[key]['enthalpy']=round(my_dfs2[key].apply(lambda x: h_humid_air(x['temperature']+273.15,x['humidity']),axis=1))\n",
    "    # dew point\n",
    "    my_dfs2[key]['dewpoint']=round(my_dfs2[key].apply(lambda x: T_dew(x['temperature']+273.15,x['humidity']),axis=1)-273.15,2)\n",
    "    # density\n",
    "    my_dfs2[key]['density']=round(my_dfs2[key].apply(lambda x: rho_Humid_air(x['temperature']+273.15,x['humidity']),axis=1),3)"
   ]
  },
  {
   "cell_type": "code",
   "execution_count": 93,
   "metadata": {},
   "outputs": [],
   "source": [
    "#display data\n",
    "if False:\n",
    "    for key in my_dfs2.keys():\n",
    "        print(40*'-'+'\\n'+key)\n",
    "        my_dfs2[key].head(5)\n",
    "        print(40*'-')"
   ]
  },
  {
   "cell_type": "code",
   "execution_count": 94,
   "metadata": {},
   "outputs": [
    {
     "data": {
      "text/html": [
       "<div>\n",
       "<style scoped>\n",
       "    .dataframe tbody tr th:only-of-type {\n",
       "        vertical-align: middle;\n",
       "    }\n",
       "\n",
       "    .dataframe tbody tr th {\n",
       "        vertical-align: top;\n",
       "    }\n",
       "\n",
       "    .dataframe thead th {\n",
       "        text-align: right;\n",
       "    }\n",
       "</style>\n",
       "<table border=\"1\" class=\"dataframe\">\n",
       "  <thead>\n",
       "    <tr style=\"text-align: right;\">\n",
       "      <th></th>\n",
       "      <th>datetime</th>\n",
       "      <th>temperature</th>\n",
       "      <th>humidity</th>\n",
       "      <th>pressure</th>\n",
       "      <th>windspeed</th>\n",
       "      <th>winddir</th>\n",
       "      <th>cloudcoverage</th>\n",
       "      <th>rain</th>\n",
       "      <th>snow</th>\n",
       "      <th>weather_description</th>\n",
       "      <th>humidity_abs</th>\n",
       "      <th>enthalpy</th>\n",
       "      <th>dewpoint</th>\n",
       "      <th>density</th>\n",
       "    </tr>\n",
       "  </thead>\n",
       "  <tbody>\n",
       "    <tr>\n",
       "      <th>0</th>\n",
       "      <td>2020-03-19 11:45:50</td>\n",
       "      <td>13.91</td>\n",
       "      <td>71</td>\n",
       "      <td>1025</td>\n",
       "      <td>4.1</td>\n",
       "      <td>290.0</td>\n",
       "      <td>75</td>\n",
       "      <td>0.0</td>\n",
       "      <td>0.0</td>\n",
       "      <td>Clouds : broken clouds</td>\n",
       "      <td>0.0070</td>\n",
       "      <td>32.0</td>\n",
       "      <td>8.79</td>\n",
       "      <td>1.224</td>\n",
       "    </tr>\n",
       "    <tr>\n",
       "      <th>1</th>\n",
       "      <td>2020-03-19 12:50:48</td>\n",
       "      <td>13.81</td>\n",
       "      <td>67</td>\n",
       "      <td>1025</td>\n",
       "      <td>3.6</td>\n",
       "      <td>330.0</td>\n",
       "      <td>75</td>\n",
       "      <td>0.0</td>\n",
       "      <td>0.0</td>\n",
       "      <td>Clouds : broken clouds</td>\n",
       "      <td>0.0065</td>\n",
       "      <td>31.0</td>\n",
       "      <td>7.85</td>\n",
       "      <td>1.225</td>\n",
       "    </tr>\n",
       "    <tr>\n",
       "      <th>2</th>\n",
       "      <td>2020-03-19 13:46:46</td>\n",
       "      <td>13.48</td>\n",
       "      <td>71</td>\n",
       "      <td>1025</td>\n",
       "      <td>3.6</td>\n",
       "      <td>350.0</td>\n",
       "      <td>75</td>\n",
       "      <td>0.0</td>\n",
       "      <td>0.0</td>\n",
       "      <td>Clouds : broken clouds</td>\n",
       "      <td>0.0068</td>\n",
       "      <td>31.0</td>\n",
       "      <td>8.38</td>\n",
       "      <td>1.226</td>\n",
       "    </tr>\n",
       "    <tr>\n",
       "      <th>3</th>\n",
       "      <td>2020-03-19 14:52:21</td>\n",
       "      <td>13.65</td>\n",
       "      <td>67</td>\n",
       "      <td>1025</td>\n",
       "      <td>3.1</td>\n",
       "      <td>360.0</td>\n",
       "      <td>40</td>\n",
       "      <td>0.0</td>\n",
       "      <td>0.0</td>\n",
       "      <td>Clouds : scattered clouds</td>\n",
       "      <td>0.0065</td>\n",
       "      <td>30.0</td>\n",
       "      <td>7.70</td>\n",
       "      <td>1.226</td>\n",
       "    </tr>\n",
       "    <tr>\n",
       "      <th>4</th>\n",
       "      <td>2020-03-19 15:52:40</td>\n",
       "      <td>13.26</td>\n",
       "      <td>71</td>\n",
       "      <td>1025</td>\n",
       "      <td>3.6</td>\n",
       "      <td>340.0</td>\n",
       "      <td>40</td>\n",
       "      <td>0.0</td>\n",
       "      <td>0.0</td>\n",
       "      <td>Clouds : scattered clouds</td>\n",
       "      <td>0.0067</td>\n",
       "      <td>30.0</td>\n",
       "      <td>8.17</td>\n",
       "      <td>1.227</td>\n",
       "    </tr>\n",
       "  </tbody>\n",
       "</table>\n",
       "</div>"
      ],
      "text/plain": [
       "             datetime  temperature  humidity  pressure  windspeed  winddir  \\\n",
       "0 2020-03-19 11:45:50        13.91        71      1025        4.1    290.0   \n",
       "1 2020-03-19 12:50:48        13.81        67      1025        3.6    330.0   \n",
       "2 2020-03-19 13:46:46        13.48        71      1025        3.6    350.0   \n",
       "3 2020-03-19 14:52:21        13.65        67      1025        3.1    360.0   \n",
       "4 2020-03-19 15:52:40        13.26        71      1025        3.6    340.0   \n",
       "\n",
       "   cloudcoverage  rain  snow        weather_description  humidity_abs  \\\n",
       "0             75   0.0   0.0     Clouds : broken clouds        0.0070   \n",
       "1             75   0.0   0.0     Clouds : broken clouds        0.0065   \n",
       "2             75   0.0   0.0     Clouds : broken clouds        0.0068   \n",
       "3             40   0.0   0.0  Clouds : scattered clouds        0.0065   \n",
       "4             40   0.0   0.0  Clouds : scattered clouds        0.0067   \n",
       "\n",
       "   enthalpy  dewpoint  density  \n",
       "0      32.0      8.79    1.224  \n",
       "1      31.0      7.85    1.225  \n",
       "2      31.0      8.38    1.226  \n",
       "3      30.0      7.70    1.226  \n",
       "4      30.0      8.17    1.227  "
      ]
     },
     "execution_count": 94,
     "metadata": {},
     "output_type": "execute_result"
    }
   ],
   "source": [
    "my_dfs2['df_c'].head()"
   ]
  },
  {
   "cell_type": "markdown",
   "metadata": {},
   "source": [
    "## Data report"
   ]
  },
  {
   "cell_type": "code",
   "execution_count": 95,
   "metadata": {},
   "outputs": [],
   "source": [
    "# long\n",
    "#profile report inline\n",
    "\n",
    "if False: # Train Data report generation\n",
    "    for key in my_dfs2.keys():\n",
    "        title=\"Berlin Weather Data \"+str(key)\n",
    "        output_file=\"profile_report/Berlin Weather Data \"+str(key)+\".html\"\n",
    "        profile = my_dfs2[key].profile_report(title=title) \n",
    "        profile.to_file(output_file=output_file) # save the report \n"
   ]
  },
  {
   "cell_type": "code",
   "execution_count": 96,
   "metadata": {},
   "outputs": [
    {
     "name": "stdout",
     "output_type": "stream",
     "text": [
      "<class 'pandas.core.frame.DataFrame'>\n",
      "RangeIndex: 470 entries, 0 to 469\n",
      "Data columns (total 14 columns):\n",
      " #   Column               Non-Null Count  Dtype         \n",
      "---  ------               --------------  -----         \n",
      " 0   datetime             470 non-null    datetime64[ns]\n",
      " 1   temperature          470 non-null    float64       \n",
      " 2   humidity             470 non-null    int64         \n",
      " 3   pressure             470 non-null    int64         \n",
      " 4   windspeed            470 non-null    float64       \n",
      " 5   winddir              470 non-null    float64       \n",
      " 6   cloudcoverage        470 non-null    int64         \n",
      " 7   rain                 470 non-null    float64       \n",
      " 8   snow                 470 non-null    float64       \n",
      " 9   weather_description  470 non-null    object        \n",
      " 10  humidity_abs         470 non-null    float64       \n",
      " 11  enthalpy             470 non-null    float64       \n",
      " 12  dewpoint             470 non-null    float64       \n",
      " 13  density              470 non-null    float64       \n",
      "dtypes: datetime64[ns](1), float64(9), int64(3), object(1)\n",
      "memory usage: 51.5+ KB\n"
     ]
    }
   ],
   "source": [
    "# short\n",
    "if False: # hist report\n",
    "    for key in my_dfs2.keys():\n",
    "        my_dfs2[key].head()\n",
    "        my_dfs2[key].info()\n",
    "        my_dfs2[key].describe(include='all')\n",
    "        \n",
    "my_dfs2['df_c'].info()    \n"
   ]
  },
  {
   "cell_type": "markdown",
   "metadata": {},
   "source": [
    "## Heat map"
   ]
  },
  {
   "cell_type": "code",
   "execution_count": 97,
   "metadata": {},
   "outputs": [
    {
     "data": {
      "text/plain": [
       "<matplotlib.axes._subplots.AxesSubplot at 0x1ea28afadc8>"
      ]
     },
     "execution_count": 97,
     "metadata": {},
     "output_type": "execute_result"
    },
    {
     "data": {
      "image/png": "[encoded data removed]",
      "text/plain": [
       "<Figure size 432x288 with 1 Axes>"
      ]
     },
     "metadata": {
      "needs_background": "light"
     },
     "output_type": "display_data"
    }
   ],
   "source": [
    "sns.heatmap(my_dfs2['df_c'].isnull(), cbar=False)"
   ]
  },
  {
   "cell_type": "code",
   "execution_count": 98,
   "metadata": {
    "scrolled": false
   },
   "outputs": [
    {
     "data": {
      "text/plain": [
       "<matplotlib.axes._subplots.AxesSubplot at 0x1ea28b952c8>"
      ]
     },
     "execution_count": 98,
     "metadata": {},
     "output_type": "execute_result"
    },
    {
     "data": {
      "image/png": "[encoded data removed]",
      "text/plain": [
       "<Figure size 432x288 with 1 Axes>"
      ]
     },
     "metadata": {
      "needs_background": "light"
     },
     "output_type": "display_data"
    }
   ],
   "source": [
    "sns.heatmap(my_dfs2['df_6'].isnull(), cbar=False)"
   ]
  },
  {
   "cell_type": "markdown",
   "metadata": {},
   "source": [
    "# Display"
   ]
  },
  {
   "cell_type": "code",
   "execution_count": null,
   "metadata": {},
   "outputs": [],
   "source": [
    "my_disp_dfs=my_dfs2\n",
    "for key in my_disp_dfs.keys():\n",
    "    my_disp_dfs[key].set_index('datetime',inplace=True)\n",
    "    "
   ]
  },
  {
   "cell_type": "code",
   "execution_count": 126,
   "metadata": {},
   "outputs": [],
   "source": [
    "# last 14 days    \n",
    "my_disp_dfs['df_c']=my_disp_dfs['df_c'].loc[my_disp_dfs['df_c'].index>=my_disp_dfs['df_c'].index.max()-]"
   ]
  },
  {
   "cell_type": "code",
   "execution_count": null,
   "metadata": {},
   "outputs": [],
   "source": []
  },
  {
   "cell_type": "code",
   "execution_count": 127,
   "metadata": {},
   "outputs": [
    {
     "data": {
      "text/plain": [
       "<Figure size 864x432 with 0 Axes>"
      ]
     },
     "execution_count": 127,
     "metadata": {},
     "output_type": "execute_result"
    },
    {
     "data": {
      "text/plain": [
       "<matplotlib.axes._subplots.AxesSubplot at 0x1ea2b0c4708>"
      ]
     },
     "execution_count": 127,
     "metadata": {},
     "output_type": "execute_result"
    },
    {
     "data": {
      "text/plain": [
       "Text(0.5, 0, 'datetime')"
      ]
     },
     "execution_count": 127,
     "metadata": {},
     "output_type": "execute_result"
    },
    {
     "data": {
      "text/plain": [
       "Text(0, 0.5, 'Temperature [°C]')"
      ]
     },
     "execution_count": 127,
     "metadata": {},
     "output_type": "execute_result"
    },
    {
     "data": {
      "text/plain": [
       "<matplotlib.legend.Legend at 0x1ea2aee9e48>"
      ]
     },
     "execution_count": 127,
     "metadata": {},
     "output_type": "execute_result"
    },
    {
     "data": {
      "image/png": "[encoded data removed]",
      "text/plain": [
       "<Figure size 864x432 with 1 Axes>"
      ]
     },
     "metadata": {
      "needs_background": "light"
     },
     "output_type": "display_data"
    }
   ],
   "source": [
    "plt.figure(figsize=(12,6))\n",
    "my_dfs2['df_c'].temperature.plot()\n",
    "plt.xlabel('datetime')\n",
    "plt.ylabel('Temperature [°C]')\n",
    "plt.legend()\n",
    "plt.grid()\n",
    "plt.show()"
   ]
  },
  {
   "cell_type": "code",
   "execution_count": null,
   "metadata": {},
   "outputs": [],
   "source": []
  }
 ],
 "metadata": {
  "kernelspec": {
   "display_name": "Python 3",
   "language": "python",
   "name": "python3"
  },
  "toc": {
   "base_numbering": 1,
   "nav_menu": {},
   "number_sections": true,
   "sideBar": true,
   "skip_h1_title": false,
   "title_cell": "Table of Contents",
   "title_sidebar": "Contents",
   "toc_cell": false,
   "toc_position": {},
   "toc_section_display": true,
   "toc_window_display": false
  },
  "varInspector": {
   "cols": {
    "lenName": 16,
    "lenType": 16,
    "lenVar": 40
   },
   "kernels_config": {
    "python": {
     "delete_cmd_postfix": "",
     "delete_cmd_prefix": "del ",
     "library": "var_list.py",
     "varRefreshCmd": "print(var_dic_list())"
    },
    "r": {
     "delete_cmd_postfix": ") ",
     "delete_cmd_prefix": "rm(",
     "library": "var_list.r",
     "varRefreshCmd": "cat(var_dic_list()) "
    }
   },
   "types_to_exclude": [
    "module",
    "function",
    "builtin_function_or_method",
    "instance",
    "_Feature"
   ],
   "window_display": false
  }
 },
 "nbformat": 4,
 "nbformat_minor": 2
}
