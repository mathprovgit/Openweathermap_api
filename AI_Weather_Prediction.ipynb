{
 "cells": [
  {
   "cell_type": "markdown",
   "metadata": {},
   "source": [
    "# Objectives"
   ]
  },
  {
   "cell_type": "markdown",
   "metadata": {},
   "source": [
    "- [x] get data from database\n",
    "- [ ] data wrangling\n",
    "- [ ] ml model \n",
    "- [ ] compare with traditional prediction"
   ]
  },
  {
   "cell_type": "markdown",
   "metadata": {},
   "source": [
    "# source"
   ]
  },
  {
   "cell_type": "markdown",
   "metadata": {},
   "source": [
    " data provided by Openweathermap"
   ]
  },
  {
   "cell_type": "markdown",
   "metadata": {},
   "source": [
    "# Imports"
   ]
  },
  {
   "cell_type": "code",
   "execution_count": 1,
   "metadata": {},
   "outputs": [],
   "source": [
    "# os\n",
    "import os\n",
    "\n",
    "#googlesheets\n",
    "import gspread\n",
    "from oauth2client.service_account import ServiceAccountCredentials\n",
    "from df2gspread import df2gspread as d2g\n",
    "\n",
    "# data analysis and wrangling\n",
    "import numpy as np # linear algebra\n",
    "import pandas as pd # data processing, CSV file I/O (e.g. pd.read_csv)\n",
    "import random \n",
    "\n",
    "# visualization and reporting\n",
    "import pandas_profiling # dataframe profiling @\n",
    "import seaborn as sns\n",
    "import matplotlib.pyplot as plt\n",
    "%matplotlib inline\n",
    "import calmap\n",
    "\n",
    "# Humid air model\n",
    "from media_model_humid_air import h_humid_air,T_dew, rho_Humid_air, Ha_air\n"
   ]
  },
  {
   "cell_type": "markdown",
   "metadata": {},
   "source": [
    "# Data imports"
   ]
  },
  {
   "cell_type": "markdown",
   "metadata": {},
   "source": [
    "## google sheet authentication"
   ]
  },
  {
   "cell_type": "code",
   "execution_count": 2,
   "metadata": {},
   "outputs": [],
   "source": [
    "#authentication to google api using JSON credential file\n",
    "scope = ['https://spreadsheets.google.com/feeds','https://www.googleapis.com/auth/drive']\n",
    "creds = ServiceAccountCredentials.from_json_keyfile_name('api_data/WDcred.json', scope)\n",
    "client = gspread.authorize(creds)"
   ]
  },
  {
   "cell_type": "markdown",
   "metadata": {},
   "source": [
    "## Historical weather "
   ]
  },
  {
   "cell_type": "code",
   "execution_count": 3,
   "metadata": {},
   "outputs": [],
   "source": [
    "#get historical weather berlin sheet\n",
    "hist_weather = client.open('current_weather_berlin').sheet1\n",
    "\n",
    "data = hist_weather.get_all_values()\n",
    "headers = data.pop(0)\n",
    "\n",
    "df_historical = pd.DataFrame(data, columns=headers)"
   ]
  },
  {
   "cell_type": "markdown",
   "metadata": {},
   "source": [
    "## get Openweathermap forecast "
   ]
  },
  {
   "cell_type": "code",
   "execution_count": 4,
   "metadata": {},
   "outputs": [],
   "source": [
    "#get forecast weather berlin sheet from open weather map\n",
    "#forecast_weather = client.open('forecast_weather_berlin')\n",
    "forecast_weather = client.open('forecast_weather_berlin').sheet1\n",
    "\n",
    "data = forecast_weather.get_all_values()\n",
    "headers = data.pop(0)\n",
    "\n",
    "df_forecast = pd.DataFrame(data, columns=headers)"
   ]
  },
  {
   "cell_type": "code",
   "execution_count": 5,
   "metadata": {},
   "outputs": [],
   "source": [
    "df_hist=df_historical\n",
    "df_fore=df_forecast"
   ]
  },
  {
   "cell_type": "markdown",
   "metadata": {},
   "source": [
    "# Wrangle"
   ]
  },
  {
   "cell_type": "markdown",
   "metadata": {},
   "source": [
    "## get ride of sunrise and sunset"
   ]
  },
  {
   "cell_type": "code",
   "execution_count": 6,
   "metadata": {},
   "outputs": [],
   "source": [
    "df_hist.drop('sunrisetime',axis =1, inplace=True)\n",
    "df_hist.drop('sunsettime',axis =1, inplace=True)"
   ]
  },
  {
   "cell_type": "markdown",
   "metadata": {},
   "source": [
    "## df_forecast column rename "
   ]
  },
  {
   "cell_type": "code",
   "execution_count": 7,
   "metadata": {},
   "outputs": [],
   "source": [
    "df_fore.rename(columns={\n",
    "    '':'datetime',\n",
    "    \"temp_f\": \"temperature\",\n",
    "    \"humidity_f\": \"humidity\",\n",
    "    \"pressure_f\": \"pressure\",\n",
    "    \"wind_speed_f\": \"windspeed\",\n",
    "    \"wind_dir_f\": \"winddir\",\n",
    "    \"cloudcoverage_f\": \"cloudcoverage\",\n",
    "    \"weather_f\": \"weather\",\n",
    "    \"description_f\": \"description\",\n",
    "    \"icon_f\": \"weathericon\"},inplace=True)\n",
    "#df_fore.columns"
   ]
  },
  {
   "cell_type": "markdown",
   "metadata": {},
   "source": [
    "## join df"
   ]
  },
  {
   "cell_type": "code",
   "execution_count": 8,
   "metadata": {},
   "outputs": [],
   "source": [
    "combo=[df_hist,df_fore]"
   ]
  },
  {
   "cell_type": "markdown",
   "metadata": {
    "code_folding": []
   },
   "source": [
    "## drop icon"
   ]
  },
  {
   "cell_type": "code",
   "execution_count": 9,
   "metadata": {},
   "outputs": [],
   "source": [
    "for df in combo:\n",
    "    df.drop('weathericon',axis =1, inplace=True)"
   ]
  },
  {
   "cell_type": "markdown",
   "metadata": {},
   "source": [
    "## string to numeric values"
   ]
  },
  {
   "cell_type": "code",
   "execution_count": 10,
   "metadata": {
    "scrolled": false
   },
   "outputs": [],
   "source": [
    "for df in combo:\n",
    "    cols=['temperature', 'humidity', 'pressure', 'windspeed','winddir','cloudcoverage']\n",
    "    for col in cols:\n",
    "        df[col]= pd.to_numeric(df[col], errors='coerce')"
   ]
  },
  {
   "cell_type": "markdown",
   "metadata": {},
   "source": [
    "## String to datetime"
   ]
  },
  {
   "cell_type": "code",
   "execution_count": 11,
   "metadata": {},
   "outputs": [],
   "source": [
    "for df in combo:\n",
    "    df['datetime']= pd.to_datetime(df['datetime'], errors='coerce') "
   ]
  },
  {
   "cell_type": "markdown",
   "metadata": {},
   "source": [
    "## weather and description"
   ]
  },
  {
   "cell_type": "code",
   "execution_count": 12,
   "metadata": {},
   "outputs": [],
   "source": [
    "for df in combo:\n",
    "    df['weather_description']=df['weather']+' : '+df['description']\n",
    "    df.drop(['weather','description'],axis=1,inplace=True)"
   ]
  },
  {
   "cell_type": "markdown",
   "metadata": {},
   "source": [
    "## Deal with Na"
   ]
  },
  {
   "cell_type": "code",
   "execution_count": 15,
   "metadata": {},
   "outputs": [],
   "source": [
    "for df in combo:\n",
    "    df['winddir'].fillna(399,inplace=True)"
   ]
  },
  {
   "cell_type": "markdown",
   "metadata": {},
   "source": [
    "## Creation new value"
   ]
  },
  {
   "cell_type": "code",
   "execution_count": 16,
   "metadata": {},
   "outputs": [],
   "source": [
    "for df in combo:\n",
    "    # absolute humidity\n",
    "    df['humidity_abs']=round(df.apply(lambda x: Ha_air(x['temperature']+273.15,x['humidity']),axis=1),4)\n",
    "    # entalpy\n",
    "    df['enthalpy']=round(df.apply(lambda x: h_humid_air(x['temperature']+273.15,x['humidity']),axis=1))\n",
    "    # dew point\n",
    "    df['dewpoint']=round(df.apply(lambda x: T_dew(x['temperature']+273.15,x['humidity']),axis=1)-273.15,2)\n",
    "    # density\n",
    "    df['density']=round(df.apply(lambda x: rho_Humid_air(x['temperature']+273.15,x['humidity']),axis=1),3)"
   ]
  },
  {
   "cell_type": "markdown",
   "metadata": {},
   "source": [
    "## Data report"
   ]
  },
  {
   "cell_type": "code",
   "execution_count": 19,
   "metadata": {},
   "outputs": [],
   "source": [
    "# long\n",
    "#profile report inline\n",
    "if False: # Train Data report generation\n",
    "    profile_hist = df_hist.profile_report(title='Berlin Historical Weather Data') \n",
    "    profile_hist.to_file(output_file=\"profile_report/Berlin Historical Weather Data.html\") # save the report \n",
    "    profile_hist # display inline\n",
    "if False: # Test Data report generation\n",
    "    profile_fore = df_fore.profile_report(title='Berlin Forecast Weather Data')\n",
    "    profile_fore.to_file(output_file=\"profile_report/Berlin Forecast Weather Data.html\") # save the report \n",
    "    profile_fore # in order to display inline"
   ]
  },
  {
   "cell_type": "code",
   "execution_count": 18,
   "metadata": {},
   "outputs": [],
   "source": [
    "# short\n",
    "if False: # hist report\n",
    "    #df_hist.head()\n",
    "    df_hist.info()\n",
    "    #df_hist.describe(include='all')\n",
    "    \n",
    "if False: # fore report\n",
    "    df_fore.head()\n",
    "    df_fore.info()\n",
    "    #df_fore.describe()\n",
    "    #df_fore.describe(include='all')\n"
   ]
  },
  {
   "cell_type": "markdown",
   "metadata": {},
   "source": [
    "## Heat map"
   ]
  },
  {
   "cell_type": "code",
   "execution_count": 20,
   "metadata": {},
   "outputs": [
    {
     "data": {
      "text/plain": [
       "<matplotlib.axes._subplots.AxesSubplot at 0x23df0975388>"
      ]
     },
     "execution_count": 20,
     "metadata": {},
     "output_type": "execute_result"
    },
    {
     "data": {
      "image/png": "[encoded data removed]",
      "text/plain": [
       "<Figure size 432x288 with 1 Axes>"
      ]
     },
     "metadata": {
      "needs_background": "light"
     },
     "output_type": "display_data"
    }
   ],
   "source": [
    "sns.heatmap(df_hist.isnull(), cbar=False)"
   ]
  },
  {
   "cell_type": "code",
   "execution_count": 21,
   "metadata": {
    "scrolled": false
   },
   "outputs": [
    {
     "data": {
      "text/plain": [
       "<matplotlib.axes._subplots.AxesSubplot at 0x23df0a29d88>"
      ]
     },
     "execution_count": 21,
     "metadata": {},
     "output_type": "execute_result"
    },
    {
     "data": {
      "image/png": "[encoded data removed]",
      "text/plain": [
       "<Figure size 432x288 with 1 Axes>"
      ]
     },
     "metadata": {
      "needs_background": "light"
     },
     "output_type": "display_data"
    }
   ],
   "source": [
    "sns.heatmap(df_fore.isnull(), cbar=False)"
   ]
  },
  {
   "cell_type": "code",
   "execution_count": null,
   "metadata": {},
   "outputs": [],
   "source": []
  },
  {
   "cell_type": "code",
   "execution_count": null,
   "metadata": {},
   "outputs": [],
   "source": []
  }
 ],
 "metadata": {
  "kernelspec": {
   "display_name": "Python 3",
   "language": "python",
   "name": "python3"
  },
  "language_info": {
   "codemirror_mode": {
    "name": "ipython",
    "version": 3
   },
   "file_extension": ".py",
   "mimetype": "text/x-python",
   "name": "python",
   "nbconvert_exporter": "python",
   "pygments_lexer": "ipython3",
   "version": "3.7.4"
  },
  "toc": {
   "base_numbering": 1,
   "nav_menu": {},
   "number_sections": true,
   "sideBar": true,
   "skip_h1_title": false,
   "title_cell": "Table of Contents",
   "title_sidebar": "Contents",
   "toc_cell": false,
   "toc_position": {},
   "toc_section_display": true,
   "toc_window_display": false
  },
  "varInspector": {
   "cols": {
    "lenName": 16,
    "lenType": 16,
    "lenVar": 40
   },
   "kernels_config": {
    "python": {
     "delete_cmd_postfix": "",
     "delete_cmd_prefix": "del ",
     "library": "var_list.py",
     "varRefreshCmd": "print(var_dic_list())"
    },
    "r": {
     "delete_cmd_postfix": ") ",
     "delete_cmd_prefix": "rm(",
     "library": "var_list.r",
     "varRefreshCmd": "cat(var_dic_list()) "
    }
   },
   "types_to_exclude": [
    "module",
    "function",
    "builtin_function_or_method",
    "instance",
    "_Feature"
   ],
   "window_display": false
  }
 },
 "nbformat": 4,
 "nbformat_minor": 2
}
