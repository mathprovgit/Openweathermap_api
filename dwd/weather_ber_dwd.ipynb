{
 "cells": [
  {
   "cell_type": "markdown",
   "metadata": {},
   "source": [
    "# Infos"
   ]
  },
  {
   "cell_type": "markdown",
   "metadata": {
    "ExecuteTime": {
     "end_time": "2019-12-13T10:55:59.599232Z",
     "start_time": "2019-12-13T10:55:59.595246Z"
    }
   },
   "source": [
    "sources: \n",
    "- [dwd Homepage](https://www.dwd.de/)\n",
    "- [dwdweater2 package](https://pypi.org/project/dwdweather2/)"
   ]
  },
  {
   "cell_type": "markdown",
   "metadata": {},
   "source": [
    "# import packages"
   ]
  },
  {
   "cell_type": "code",
   "execution_count": 14,
   "metadata": {
    "ExecuteTime": {
     "end_time": "2019-12-13T12:48:23.632209Z",
     "start_time": "2019-12-13T12:48:22.426349Z"
    },
    "scrolled": true
   },
   "outputs": [],
   "source": [
    "#data_processing\n",
    "import pandas as pd\n",
    "import numpy as np\n",
    "import datetime as dt\n",
    "\n",
    "#data display \n",
    "import matplotlib.pyplot as plt\n",
    "import seaborn as sns\n",
    "\n",
    "#weather data\n",
    "from dwdweather import DwdWeather"
   ]
  },
  {
   "cell_type": "code",
   "execution_count": 15,
   "metadata": {},
   "outputs": [],
   "source": [
    "# Create client object.\n",
    "#dw = DwdWeather(resolution=\"10_minutes\")\n",
    "dw = DwdWeather(resolution=\"hourly\")"
   ]
  },
  {
   "cell_type": "code",
   "execution_count": 16,
   "metadata": {
    "scrolled": true
   },
   "outputs": [
    {
     "data": {
      "text/plain": [
       "[{'station_id': 399,\n",
       "  'date_start': 19691201,\n",
       "  'date_end': 20110801,\n",
       "  'geo_lon': 13.4057,\n",
       "  'geo_lat': 52.5198,\n",
       "  'height': 36,\n",
       "  'name': 'Berlin-Alexanderplatz',\n",
       "  'state': 'Berlin'}]"
      ]
     },
     "execution_count": 16,
     "metadata": {},
     "output_type": "execute_result"
    }
   ],
   "source": [
    "# Find closest station to position.\n",
    "closest = dw.nearest_station(lon=13.4105, lat=52.5244,surrounding=True)\n",
    "closest"
   ]
  },
  {
   "cell_type": "code",
   "execution_count": 17,
   "metadata": {},
   "outputs": [
    {
     "data": {
      "text/plain": [
       "{'station_id': 433,\n",
       " 'date_start': 19490101,\n",
       " 'date_end': 20200310,\n",
       " 'geo_lon': 13.4021,\n",
       " 'geo_lat': 52.4675,\n",
       " 'height': 48,\n",
       " 'name': 'Berlin-Tempelhof',\n",
       " 'state': 'Berlin'}"
      ]
     },
     "execution_count": 17,
     "metadata": {},
     "output_type": "execute_result"
    }
   ],
   "source": [
    "#Berlin stations\n",
    "station_Berlin_Alexanderplatz=dw.nearest_station(lon=13.4105, lat=52.5244)\n",
    "station_Berlin_Tempelhof=dw.nearest_station(lon=13.406654, lat=52.4741185)\n",
    "station_Berlin_Tegel=dw.nearest_station(lon=13.3512342, lat=52.6182298)\n",
    "station_Berlin_Buch=dw.nearest_station(lon=13.5433991, lat=52.6714854)\n",
    "station_Berlin_Tempelhof"
   ]
  },
  {
   "cell_type": "code",
   "execution_count": 21,
   "metadata": {},
   "outputs": [
    {
     "name": "stderr",
     "output_type": "stream",
     "text": [
      "100%|██████████████████████████████████| 13202/13202 [00:02<00:00, 5418.54it/s]\n",
      "100%|████████████████████████████████| 507510/507510 [01:41<00:00, 4978.06it/s]\n",
      "Station \"433\" has no data for category \"cloud_type\"\n",
      "Importing \"cloud type\" data from \"https://opendata.dwd.de/climate_environment/CDC/observations_germany/climate/hourly/cloud_type/historical/stundenwerte_CS_00433_19490101_20181231_hist.zip/produkt_cs_stunde_19490101_20181231_00433.txt\" not implemented yet\n",
      "Station \"433\" has no data for category \"cloudiness\"\n",
      "100%|████████████████████████████████| 465157/465157 [01:58<00:00, 3940.05it/s]\n",
      "Importing \"dew point\" data from \"https://opendata.dwd.de/climate_environment/CDC/observations_germany/climate/hourly/dew_point/recent/stundenwerte_TD_00433_akt.zip/produkt_td_stunde_20180908_20200310_00433.txt\" not implemented yet\n",
      "Importing \"dew point\" data from \"https://opendata.dwd.de/climate_environment/CDC/observations_germany/climate/hourly/dew_point/historical/stundenwerte_TD_00433_19490101_20181231_hist.zip/produkt_td_stunde_19490101_20181231_00433.txt\" not implemented yet\n",
      "Station \"433\" has no data for category \"extreme_temperature\"\n",
      "Station \"433\" has no data for category \"extreme_temperature\"\n",
      "Station \"433\" has no data for category \"extreme_wind\"\n",
      "Station \"433\" has no data for category \"extreme_wind\"\n",
      "100%|██████████████████████████████████| 13163/13163 [00:02<00:00, 4428.78it/s]\n",
      "100%|████████████████████████████████| 203303/203303 [00:45<00:00, 4426.51it/s]\n",
      "100%|██████████████████████████████████| 13202/13202 [00:02<00:00, 4559.08it/s]\n",
      "100%|████████████████████████████████| 554542/554542 [02:07<00:00, 4365.96it/s]\n",
      "100%|██████████████████████████████████| 13166/13166 [00:03<00:00, 4339.17it/s]\n",
      "100%|████████████████████████████████| 171702/171702 [00:41<00:00, 4180.92it/s]\n",
      "Station \"433\" has no data for category \"solar\"\n",
      "100%|██████████████████████████████████| 10488/10488 [00:02<00:00, 4477.92it/s]\n",
      "100%|████████████████████████████████| 312530/312530 [01:10<00:00, 4443.79it/s]\n",
      "Station \"433\" has no data for category \"visibility\"\n",
      "100%|████████████████████████████████| 464876/464876 [01:54<00:00, 4059.68it/s]\n",
      "100%|██████████████████████████████████| 13148/13148 [00:03<00:00, 4354.84it/s]\n",
      "100%|████████████████████████████████| 392843/392843 [01:30<00:00, 4339.95it/s]\n",
      "Importing \"wind synop\" data from \"https://opendata.dwd.de/climate_environment/CDC/observations_germany/climate/hourly/wind_synop/recent/stundenwerte_F_00433_akt.zip/produkt_f_stunde_20180908_20200310_00433.txt\" not implemented yet\n",
      "Importing \"wind synop\" data from \"https://opendata.dwd.de/climate_environment/CDC/observations_germany/climate/hourly/wind_synop/historical/stundenwerte_F_00433_19490101_20181231_hist.zip/produkt_f_stunde_19490101_20181231_00433.txt\" not implemented yet\n"
     ]
    },
    {
     "data": {
      "text/plain": [
       "{'station_id': 433,\n",
       " 'datetime': 2019031012,\n",
       " 'airtemp_quality_level': 3,\n",
       " 'airtemp_temperature': 7.0,\n",
       " 'airtemp_humidity': 68.0,\n",
       " 'cloudiness_quality_level': None,\n",
       " 'cloudiness_source': None,\n",
       " 'cloudiness_total_cover': None,\n",
       " 'precipitation_quality_level': 3,\n",
       " 'precipitation_height': 0.0,\n",
       " 'precipitation_fallen': 1,\n",
       " 'precipitation_form': None,\n",
       " 'pressure_quality_level': 3,\n",
       " 'pressure_normalized': 1001.7,\n",
       " 'pressure_station': 995.8,\n",
       " 'soiltemp_quality_level': 3,\n",
       " 'soiltemp_temperature_002': None,\n",
       " 'soiltemp_temperature_005': 6.3,\n",
       " 'soiltemp_temperature_010': 5.7,\n",
       " 'soiltemp_temperature_020': 5.3,\n",
       " 'soiltemp_temperature_050': 5.6,\n",
       " 'soiltemp_temperature_100': 5.8,\n",
       " 'solar_quality_level': None,\n",
       " 'solar_duration': None,\n",
       " 'solar_sky': None,\n",
       " 'solar_global': None,\n",
       " 'solar_atmosphere': None,\n",
       " 'solar_zenith': None,\n",
       " 'solar_end_of_interval': None,\n",
       " 'sun_quality_level': 10,\n",
       " 'sun_duration': 0.0,\n",
       " 'visibility_quality_level': None,\n",
       " 'visibility_source': None,\n",
       " 'visibility_value': None,\n",
       " 'wind_quality_level': 10,\n",
       " 'wind_speed': 4.1,\n",
       " 'wind_direction': 230}"
      ]
     },
     "execution_count": 21,
     "metadata": {},
     "output_type": "execute_result"
    }
   ],
   "source": [
    "query_hour = dt.datetime(2019, 3, 10, 12)\n",
    "result = dw.query(station_id=station_Berlin_Tempelhof[\"station_id\"], timestamp=query_hour)\n",
    "result"
   ]
  },
  {
   "cell_type": "code",
   "execution_count": 20,
   "metadata": {},
   "outputs": [
    {
     "name": "stdout",
     "output_type": "stream",
     "text": [
      "None\n"
     ]
    }
   ],
   "source": [
    "print(result)"
   ]
  },
  {
   "cell_type": "code",
   "execution_count": 51,
   "metadata": {},
   "outputs": [],
   "source": [
    "result"
   ]
  },
  {
   "cell_type": "code",
   "execution_count": null,
   "metadata": {},
   "outputs": [],
   "source": []
  }
 ],
 "metadata": {
  "kernelspec": {
   "display_name": "Python 3",
   "language": "python",
   "name": "python3"
  },
  "language_info": {
   "codemirror_mode": {
    "name": "ipython",
    "version": 3
   },
   "file_extension": ".py",
   "mimetype": "text/x-python",
   "name": "python",
   "nbconvert_exporter": "python",
   "pygments_lexer": "ipython3",
   "version": "3.7.4"
  },
  "toc": {
   "base_numbering": 1,
   "nav_menu": {},
   "number_sections": true,
   "sideBar": true,
   "skip_h1_title": false,
   "title_cell": "Table of Contents",
   "title_sidebar": "Contents",
   "toc_cell": false,
   "toc_position": {},
   "toc_section_display": true,
   "toc_window_display": false
  },
  "varInspector": {
   "cols": {
    "lenName": 16,
    "lenType": 16,
    "lenVar": 40
   },
   "kernels_config": {
    "python": {
     "delete_cmd_postfix": "",
     "delete_cmd_prefix": "del ",
     "library": "var_list.py",
     "varRefreshCmd": "print(var_dic_list())"
    },
    "r": {
     "delete_cmd_postfix": ") ",
     "delete_cmd_prefix": "rm(",
     "library": "var_list.r",
     "varRefreshCmd": "cat(var_dic_list()) "
    }
   },
   "types_to_exclude": [
    "module",
    "function",
    "builtin_function_or_method",
    "instance",
    "_Feature"
   ],
   "window_display": false
  }
 },
 "nbformat": 4,
 "nbformat_minor": 2
}
