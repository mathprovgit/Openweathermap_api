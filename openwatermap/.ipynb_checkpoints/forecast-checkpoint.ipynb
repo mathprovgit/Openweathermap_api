{
 "cells": [
  {
   "cell_type": "markdown",
   "metadata": {},
   "source": [
    "# Infos"
   ]
  },
  {
   "cell_type": "markdown",
   "metadata": {
    "ExecuteTime": {
     "end_time": "2019-12-13T10:55:59.599232Z",
     "start_time": "2019-12-13T10:55:59.595246Z"
    }
   },
   "source": [
    "source\n",
    "- https://www.geeksforgeeks.org/python-find-current-weather-of-any-city-using-openweathermap-api/\n",
    "- https://openweathermap.org/"
   ]
  },
  {
   "cell_type": "markdown",
   "metadata": {},
   "source": [
    "# import packages"
   ]
  },
  {
   "cell_type": "code",
   "execution_count": 17,
   "metadata": {
    "ExecuteTime": {
     "end_time": "2019-12-13T12:48:23.632209Z",
     "start_time": "2019-12-13T12:48:22.426349Z"
    }
   },
   "outputs": [],
   "source": [
    "import pandas as pd\n",
    "import numpy as np\n",
    "import datetime as dt\n",
    "import matplotlib.pyplot as plt\n",
    "%matplotlib inline\n",
    "import requests, json "
   ]
  },
  {
   "cell_type": "markdown",
   "metadata": {},
   "source": [
    "# import API Key"
   ]
  },
  {
   "cell_type": "code",
   "execution_count": 18,
   "metadata": {
    "ExecuteTime": {
     "end_time": "2019-12-13T12:48:23.641186Z",
     "start_time": "2019-12-13T12:48:23.635200Z"
    }
   },
   "outputs": [],
   "source": [
    "with open (\"api_key/api_key.txt\", \"r\") as myfile:\n",
    "    data=myfile.readlines()\n",
    "api_key = data[0]"
   ]
  },
  {
   "cell_type": "markdown",
   "metadata": {
    "ExecuteTime": {
     "end_time": "2019-12-13T10:56:58.394284Z",
     "start_time": "2019-12-13T10:56:58.390294Z"
    }
   },
   "source": [
    "# Call API"
   ]
  },
  {
   "cell_type": "code",
   "execution_count": 19,
   "metadata": {
    "ExecuteTime": {
     "end_time": "2019-12-13T12:48:23.790073Z",
     "start_time": "2019-12-13T12:48:23.644432Z"
    }
   },
   "outputs": [],
   "source": [
    "def forecast_data_call(api_key):\n",
    "    # Enter your API key here \n",
    "    #api_key = \"yourkey\"\n",
    "\n",
    "    # base_url variable to store url \n",
    "    base_url =  \"http://api.openweathermap.org/data/2.5/forecast?\"\n",
    "    # Give city name \n",
    "    city_name = 'Berlin,de'\n",
    "    complete_url = base_url + \"appid=\" + api_key + \"&q=\" + city_name \n",
    "\n",
    "    # get method of requests module \n",
    "    # return response object \n",
    "    response = requests.get(complete_url) \n",
    "\n",
    "    # json method of response object  \n",
    "    x = response.json() \n",
    "    return response"
   ]
  },
  {
   "cell_type": "code",
   "execution_count": 20,
   "metadata": {},
   "outputs": [],
   "source": [
    "#the call\n",
    "x=forecast_data_call(api_key)"
   ]
  },
  {
   "cell_type": "markdown",
   "metadata": {},
   "source": [
    "# export CSV "
   ]
  },
  {
   "cell_type": "markdown",
   "metadata": {},
   "source": [
    "## Format result"
   ]
  },
  {
   "cell_type": "code",
   "execution_count": 24,
   "metadata": {},
   "outputs": [
    {
     "data": {
      "text/plain": [
       "dict"
      ]
     },
     "execution_count": 24,
     "metadata": {},
     "output_type": "execute_result"
    }
   ],
   "source": [
    "y=x.json() \n",
    "type(y)"
   ]
  },
  {
   "cell_type": "code",
   "execution_count": 22,
   "metadata": {},
   "outputs": [],
   "source": [
    "def format_values(y):\n",
    "    weather_data=[]\n",
    "    for i in range(len(y['list'])):\n",
    "        weather_data.append([y['list'][i]['dt_txt'],\n",
    "                             y['list'][i]['main']['temp'],\n",
    "                             y['list'][i]['main']['humidity'],\n",
    "                             y['list'][i]['wind']['speed'],\n",
    "                             y['list'][i]['wind']['deg'],\n",
    "                             y['list'][i]['weather'][0]['main']\n",
    "                            ])\n",
    "\n",
    "\n",
    "\n",
    "    df_weather=pd.DataFrame(weather_data,columns=['datetime','temp','humidity','wind_speed','wind_dir','weather'])\n",
    "    df_weather.set_index(pd.to_datetime(df_weather.datetime),inplace=True)\n",
    "    df_weather.drop('datetime',axis=1,inplace=True)\n",
    "    #kelvin to degree\n",
    "    df_weather['temp']=df_weather['temp']-273.15\n",
    "    return df_weather"
   ]
  },
  {
   "cell_type": "code",
   "execution_count": 25,
   "metadata": {},
   "outputs": [],
   "source": [
    "df_weather=format_values(y)"
   ]
  },
  {
   "cell_type": "code",
   "execution_count": 26,
   "metadata": {
    "ExecuteTime": {
     "end_time": "2019-12-13T12:48:23.798012Z",
     "start_time": "2019-12-13T12:48:23.793026Z"
    },
    "scrolled": true
   },
   "outputs": [
    {
     "data": {
      "text/html": [
       "<div>\n",
       "<style scoped>\n",
       "    .dataframe tbody tr th:only-of-type {\n",
       "        vertical-align: middle;\n",
       "    }\n",
       "\n",
       "    .dataframe tbody tr th {\n",
       "        vertical-align: top;\n",
       "    }\n",
       "\n",
       "    .dataframe thead th {\n",
       "        text-align: right;\n",
       "    }\n",
       "</style>\n",
       "<table border=\"1\" class=\"dataframe\">\n",
       "  <thead>\n",
       "    <tr style=\"text-align: right;\">\n",
       "      <th></th>\n",
       "      <th>temp</th>\n",
       "      <th>humidity</th>\n",
       "      <th>wind_speed</th>\n",
       "      <th>wind_dir</th>\n",
       "      <th>weather</th>\n",
       "    </tr>\n",
       "    <tr>\n",
       "      <th>datetime</th>\n",
       "      <th></th>\n",
       "      <th></th>\n",
       "      <th></th>\n",
       "      <th></th>\n",
       "      <th></th>\n",
       "    </tr>\n",
       "  </thead>\n",
       "  <tbody>\n",
       "    <tr>\n",
       "      <th>2020-03-13 09:00:00</th>\n",
       "      <td>8.95</td>\n",
       "      <td>60</td>\n",
       "      <td>7.87</td>\n",
       "      <td>243</td>\n",
       "      <td>Clouds</td>\n",
       "    </tr>\n",
       "    <tr>\n",
       "      <th>2020-03-13 12:00:00</th>\n",
       "      <td>8.06</td>\n",
       "      <td>74</td>\n",
       "      <td>9.55</td>\n",
       "      <td>257</td>\n",
       "      <td>Rain</td>\n",
       "    </tr>\n",
       "    <tr>\n",
       "      <th>2020-03-13 15:00:00</th>\n",
       "      <td>8.58</td>\n",
       "      <td>64</td>\n",
       "      <td>9.27</td>\n",
       "      <td>268</td>\n",
       "      <td>Rain</td>\n",
       "    </tr>\n",
       "    <tr>\n",
       "      <th>2020-03-13 18:00:00</th>\n",
       "      <td>7.15</td>\n",
       "      <td>67</td>\n",
       "      <td>7.11</td>\n",
       "      <td>273</td>\n",
       "      <td>Rain</td>\n",
       "    </tr>\n",
       "    <tr>\n",
       "      <th>2020-03-13 21:00:00</th>\n",
       "      <td>3.95</td>\n",
       "      <td>62</td>\n",
       "      <td>7.41</td>\n",
       "      <td>288</td>\n",
       "      <td>Clear</td>\n",
       "    </tr>\n",
       "  </tbody>\n",
       "</table>\n",
       "</div>"
      ],
      "text/plain": [
       "                     temp  humidity  wind_speed  wind_dir weather\n",
       "datetime                                                         \n",
       "2020-03-13 09:00:00  8.95        60        7.87       243  Clouds\n",
       "2020-03-13 12:00:00  8.06        74        9.55       257    Rain\n",
       "2020-03-13 15:00:00  8.58        64        9.27       268    Rain\n",
       "2020-03-13 18:00:00  7.15        67        7.11       273    Rain\n",
       "2020-03-13 21:00:00  3.95        62        7.41       288   Clear"
      ]
     },
     "execution_count": 26,
     "metadata": {},
     "output_type": "execute_result"
    }
   ],
   "source": [
    "df_weather.head()"
   ]
  },
  {
   "cell_type": "markdown",
   "metadata": {},
   "source": [
    "## Export"
   ]
  },
  {
   "cell_type": "code",
   "execution_count": 27,
   "metadata": {},
   "outputs": [],
   "source": [
    "export_file_name=''\n",
    "export_file_name='forecast/forcast_'+str(df_weather.index[0]).replace(' ','_').replace(':','-')+'.csv'\n",
    "df_weather.to_csv(export_file_name,sep=';')"
   ]
  },
  {
   "cell_type": "markdown",
   "metadata": {
    "ExecuteTime": {
     "end_time": "2019-12-13T11:22:25.119371Z",
     "start_time": "2019-12-13T11:22:25.111393Z"
    }
   },
   "source": [
    "## Plot"
   ]
  },
  {
   "cell_type": "code",
   "execution_count": 28,
   "metadata": {
    "ExecuteTime": {
     "end_time": "2019-12-13T12:48:24.274520Z",
     "start_time": "2019-12-13T12:48:23.861841Z"
    }
   },
   "outputs": [
    {
     "data": {
      "image/png": "[encoded data removed]",
      "text/plain": [
       "<Figure size 1008x432 with 1 Axes>"
      ]
     },
     "metadata": {
      "needs_background": "light"
     },
     "output_type": "display_data"
    }
   ],
   "source": [
    "if True:\n",
    "    plt.figure(figsize=(14,6))\n",
    "    df_weather['temp'].plot()\n",
    "    plt.xlabel('Date time')\n",
    "    plt.ylabel('Temperature')\n",
    "    plt.title('\\nTemperature in Berlin\\n')\n",
    "    plt.grid()\n",
    "    plt.legend()\n",
    "    plt.show()"
   ]
  },
  {
   "cell_type": "markdown",
   "metadata": {},
   "source": [
    "# Export Json database"
   ]
  },
  {
   "cell_type": "code",
   "execution_count": 53,
   "metadata": {},
   "outputs": [],
   "source": [
    "#print\n",
    "#x.content\n",
    "#x.json()"
   ]
  },
  {
   "cell_type": "code",
   "execution_count": 48,
   "metadata": {},
   "outputs": [],
   "source": [
    "#write Json\n",
    "export_file_name=''\n",
    "export_file_name='forecast/forcast_'+str(df_weather.index[0]).replace(' ','_').replace(':','-')+'.json'"
   ]
  },
  {
   "cell_type": "code",
   "execution_count": 49,
   "metadata": {},
   "outputs": [],
   "source": [
    "with open(export_file_name, 'wb') as f:\n",
    "    f.write(x.content)"
   ]
  },
  {
   "cell_type": "code",
   "execution_count": 51,
   "metadata": {
    "code_folding": [],
    "scrolled": true
   },
   "outputs": [
    {
     "name": "stdout",
     "output_type": "stream",
     "text": [
      "282.1\n",
      "281.21\n",
      "281.73\n",
      "280.3\n",
      "277.1\n"
     ]
    }
   ],
   "source": [
    "#read Json\n",
    "with open(export_file_name) as json_file:\n",
    "    data = json.load(json_file)\n",
    "    i=0\n",
    "    for p in data['list']:\n",
    "        if i<5:\n",
    "            print(p['main']['temp'])\n",
    "        i+=1\n",
    "        \n",
    "        "
   ]
  },
  {
   "cell_type": "code",
   "execution_count": null,
   "metadata": {},
   "outputs": [],
   "source": []
  }
 ],
 "metadata": {
  "hide_input": false,
  "kernelspec": {
   "display_name": "Python 3",
   "language": "python",
   "name": "python3"
  },
  "language_info": {
   "codemirror_mode": {
    "name": "ipython",
    "version": 3
   },
   "file_extension": ".py",
   "mimetype": "text/x-python",
   "name": "python",
   "nbconvert_exporter": "python",
   "pygments_lexer": "ipython3",
   "version": "3.7.4"
  },
  "toc": {
   "base_numbering": 1,
   "nav_menu": {},
   "number_sections": true,
   "sideBar": true,
   "skip_h1_title": false,
   "title_cell": "Table of Contents",
   "title_sidebar": "Contents",
   "toc_cell": false,
   "toc_position": {},
   "toc_section_display": true,
   "toc_window_display": false
  },
  "varInspector": {
   "cols": {
    "lenName": 16,
    "lenType": 16,
    "lenVar": 40
   },
   "kernels_config": {
    "python": {
     "delete_cmd_postfix": "",
     "delete_cmd_prefix": "del ",
     "library": "var_list.py",
     "varRefreshCmd": "print(var_dic_list())"
    },
    "r": {
     "delete_cmd_postfix": ") ",
     "delete_cmd_prefix": "rm(",
     "library": "var_list.r",
     "varRefreshCmd": "cat(var_dic_list()) "
    }
   },
   "types_to_exclude": [
    "module",
    "function",
    "builtin_function_or_method",
    "instance",
    "_Feature"
   ],
   "window_display": false
  }
 },
 "nbformat": 4,
 "nbformat_minor": 2
}
