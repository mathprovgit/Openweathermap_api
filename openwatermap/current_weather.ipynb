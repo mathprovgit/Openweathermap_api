{
 "cells": [
  {
   "cell_type": "markdown",
   "metadata": {},
   "source": [
    "# Infos"
   ]
  },
  {
   "cell_type": "markdown",
   "metadata": {
    "ExecuteTime": {
     "end_time": "2019-12-13T10:55:59.599232Z",
     "start_time": "2019-12-13T10:55:59.595246Z"
    }
   },
   "source": [
    "source\n",
    "- https://www.geeksforgeeks.org/python-find-current-weather-of-any-city-using-openweathermap-api/\n",
    "- https://openweathermap.org/"
   ]
  },
  {
   "cell_type": "markdown",
   "metadata": {},
   "source": [
    "# import packages"
   ]
  },
  {
   "cell_type": "code",
   "execution_count": 1,
   "metadata": {
    "ExecuteTime": {
     "end_time": "2019-12-13T12:48:23.632209Z",
     "start_time": "2019-12-13T12:48:22.426349Z"
    }
   },
   "outputs": [],
   "source": [
    "import pandas as pd\n",
    "import numpy as np\n",
    "import datetime as dt\n",
    "import matplotlib.pyplot as plt\n",
    "import csv\n",
    "%matplotlib inline\n",
    "import requests, json "
   ]
  },
  {
   "cell_type": "markdown",
   "metadata": {},
   "source": [
    "# import API Key"
   ]
  },
  {
   "cell_type": "code",
   "execution_count": 2,
   "metadata": {
    "ExecuteTime": {
     "end_time": "2019-12-13T12:48:23.641186Z",
     "start_time": "2019-12-13T12:48:23.635200Z"
    }
   },
   "outputs": [],
   "source": [
    "with open (\"api_key/api_key.txt\", \"r\") as myfile:\n",
    "    data=myfile.readlines()\n",
    "api_key = data[0]"
   ]
  },
  {
   "cell_type": "markdown",
   "metadata": {
    "ExecuteTime": {
     "end_time": "2019-12-13T10:56:58.394284Z",
     "start_time": "2019-12-13T10:56:58.390294Z"
    }
   },
   "source": [
    "# Call API"
   ]
  },
  {
   "cell_type": "code",
   "execution_count": 3,
   "metadata": {
    "ExecuteTime": {
     "end_time": "2019-12-13T12:48:23.790073Z",
     "start_time": "2019-12-13T12:48:23.644432Z"
    }
   },
   "outputs": [],
   "source": [
    "# Enter your API key here \n",
    "def weather_data_call(api_key):\n",
    "    \n",
    "    # base_url variable to store url \n",
    "    base_url =  \"http://api.openweathermap.org/data/2.5/weather?\"\n",
    "\n",
    "    # Give city name \n",
    "    city_name = 'Berlin,de'\n",
    "    complete_url = base_url + \"appid=\" + api_key + \"&q=\" + city_name \n",
    "\n",
    "    # get method of requests module \n",
    "    # return response object \n",
    "    response = requests.get(complete_url) \n",
    "\n",
    "    # json method of response object  \n",
    "    data_json = response.json()\n",
    "    return data_json"
   ]
  },
  {
   "cell_type": "code",
   "execution_count": 4,
   "metadata": {},
   "outputs": [],
   "source": [
    "x=weather_data_call(api_key)"
   ]
  },
  {
   "cell_type": "code",
   "execution_count": 8,
   "metadata": {
    "ExecuteTime": {
     "end_time": "2019-12-13T12:48:23.790073Z",
     "start_time": "2019-12-13T12:48:23.644432Z"
    }
   },
   "outputs": [],
   "source": [
    "def format_values(x):\n",
    "    vals=[str(dt.datetime.fromtimestamp(x['dt'])), # \n",
    "          round((x['main']['temp']-273.15),2),\n",
    "          round((x['main']['humidity']),2),\n",
    "          round((x['main']['pressure']),2),\n",
    "          round((x['wind']['speed']),2),\n",
    "          x['wind']['deg'],\n",
    "          x['clouds']['all'],\n",
    "          x['weather'][0]['main'],\n",
    "          x['weather'][0]['description'],\n",
    "          x['weather'][0]['icon'],\n",
    "          str(dt.datetime.fromtimestamp(x['sys']['sunrise'])).split(' ')[1],\n",
    "          str(dt.datetime.fromtimestamp(x['sys']['sunset'])).split(' ')[1]         \n",
    "         ]\n",
    "    \n",
    "    return vals"
   ]
  },
  {
   "cell_type": "code",
   "execution_count": 9,
   "metadata": {},
   "outputs": [],
   "source": [
    "header=['datetime','temperature','humidity','pressure','windspeed','winddir','cloudcoverage','weather','description','weathericon','sunrisetime','sunsettime']\n",
    "units=[\"[YYYY-MM-DD hh:mm:ss]\",\"[°C]\",\"[%]\",\"[hPa]\",\"[m/s]\",\"[°]\",\"[%]\",\"[-]\",\"[-]\",\"[-]\",\"[hh:mm_ss]\",\"[hh:mm_ss]\"]\n",
    "y=format_values(x)"
   ]
  },
  {
   "cell_type": "code",
   "execution_count": 10,
   "metadata": {},
   "outputs": [
    {
     "name": "stdout",
     "output_type": "stream",
     "text": [
      "datetime \t:\t 2020-03-13 08:53:05 \t [YYYY-MM-DD hh:mm:ss]\n",
      "temperature \t:\t 6.4 \t [°C]\n",
      "humidity \t:\t 70 \t [%]\n",
      "pressure \t:\t 1008 \t [hPa]\n",
      "windspeed \t:\t 6.7 \t [m/s]\n",
      "winddir \t:\t 220 \t [°]\n",
      "cloudcoverage \t:\t 99 \t [%]\n",
      "weather \t:\t Clouds \t [-]\n",
      "description \t:\t overcast clouds \t [-]\n",
      "weathericon \t:\t 04d \t [-]\n",
      "sunrisetime \t:\t 06:24:46 \t [hh:mm_ss]\n",
      "sunsettime \t:\t 18:06:53 \t [hh:mm_ss]\n"
     ]
    }
   ],
   "source": [
    "for i in range(len(header)):\n",
    "    print(header[i],'\\t:\\t',y[i],'\\t',units[i]) "
   ]
  },
  {
   "cell_type": "markdown",
   "metadata": {},
   "source": [
    "# Export to csv"
   ]
  },
  {
   "cell_type": "code",
   "execution_count": 11,
   "metadata": {},
   "outputs": [
    {
     "ename": "NameError",
     "evalue": "name 'df_weather' is not defined",
     "output_type": "error",
     "traceback": [
      "\u001b[1;31m---------------------------------------------------------------------------\u001b[0m",
      "\u001b[1;31mNameError\u001b[0m                                 Traceback (most recent call last)",
      "\u001b[1;32m<ipython-input-11-ee4aaae84ab7>\u001b[0m in \u001b[0;36m<module>\u001b[1;34m\u001b[0m\n\u001b[0;32m      1\u001b[0m \u001b[0mexport_file_name\u001b[0m\u001b[1;33m=\u001b[0m\u001b[1;34m''\u001b[0m\u001b[1;33m\u001b[0m\u001b[1;33m\u001b[0m\u001b[0m\n\u001b[1;32m----> 2\u001b[1;33m \u001b[0mexport_file_name\u001b[0m\u001b[1;33m=\u001b[0m\u001b[1;34m'current_'\u001b[0m\u001b[1;33m+\u001b[0m\u001b[0mstr\u001b[0m\u001b[1;33m(\u001b[0m\u001b[0mdf_weather\u001b[0m\u001b[1;33m.\u001b[0m\u001b[0mindex\u001b[0m\u001b[1;33m[\u001b[0m\u001b[1;36m0\u001b[0m\u001b[1;33m]\u001b[0m\u001b[1;33m)\u001b[0m\u001b[1;33m.\u001b[0m\u001b[0mreplace\u001b[0m\u001b[1;33m(\u001b[0m\u001b[1;34m' '\u001b[0m\u001b[1;33m,\u001b[0m\u001b[1;34m'_'\u001b[0m\u001b[1;33m)\u001b[0m\u001b[1;33m.\u001b[0m\u001b[0mreplace\u001b[0m\u001b[1;33m(\u001b[0m\u001b[1;34m':'\u001b[0m\u001b[1;33m,\u001b[0m\u001b[1;34m'-'\u001b[0m\u001b[1;33m)\u001b[0m\u001b[1;33m+\u001b[0m\u001b[1;34m'.csv'\u001b[0m\u001b[1;33m\u001b[0m\u001b[1;33m\u001b[0m\u001b[0m\n\u001b[0m",
      "\u001b[1;31mNameError\u001b[0m: name 'df_weather' is not defined"
     ]
    }
   ],
   "source": [
    "export_file_name=''\n",
    "export_file_name='current_'+str(df_weather.index[0]).replace(' ','_').replace(':','-')+'.csv'\n"
   ]
  },
  {
   "cell_type": "code",
   "execution_count": 44,
   "metadata": {},
   "outputs": [],
   "source": [
    "df_weather.to_csv(export_file_name,sep=';')"
   ]
  },
  {
   "cell_type": "markdown",
   "metadata": {},
   "source": [
    "# create Json database"
   ]
  },
  {
   "cell_type": "code",
   "execution_count": 14,
   "metadata": {},
   "outputs": [],
   "source": [
    "# API query\n",
    "# base_url variable to store url \n",
    "base_url =  \"http://api.openweathermap.org/data/2.5/weather?\"\n",
    "\n",
    "# Give city name \n",
    "city_name = 'Berlin,de'\n",
    "complete_url = base_url + \"appid=\" + api_key + \"&q=\" + city_name \n",
    "\n",
    "# get method of requests module \n",
    "# return response object \n",
    "response = requests.get(complete_url) \n",
    "\n",
    "# json method of response object  \n",
    "x = response.json()"
   ]
  },
  {
   "cell_type": "code",
   "execution_count": 15,
   "metadata": {},
   "outputs": [
    {
     "name": "stdout",
     "output_type": "stream",
     "text": [
      "b'{\"coord\":{\"lon\":13.41,\"lat\":52.52},\"weather\":[{\"id\":801,\"main\":\"Clouds\",\"description\":\"few clouds\",\"icon\":\"02d\"}],\"base\":\"stations\",\"main\":{\"temp\":278.76,\"feels_like\":272.17,\"temp_min\":278.15,\"temp_max\":279.82,\"pressure\":1008,\"humidity\":70},\"visibility\":10000,\"wind\":{\"speed\":6.7,\"deg\":230},\"clouds\":{\"all\":20},\"dt\":1584084096,\"sys\":{\"type\":1,\"id\":1275,\"country\":\"DE\",\"sunrise\":1584077086,\"sunset\":1584119213},\"timezone\":3600,\"id\":2950159,\"name\":\"Berlin\",\"cod\":200}'\n"
     ]
    }
   ],
   "source": [
    "print(response.content)"
   ]
  },
  {
   "cell_type": "code",
   "execution_count": 16,
   "metadata": {},
   "outputs": [],
   "source": [
    "#write Json\n",
    "with open('berlin_weather_data.json', 'wb') as f:\n",
    "    f.write(response.content)"
   ]
  },
  {
   "cell_type": "code",
   "execution_count": 12,
   "metadata": {
    "code_folding": []
   },
   "outputs": [
    {
     "name": "stdout",
     "output_type": "stream",
     "text": [
      "weather: 801\n",
      "weather: Clouds\n",
      "weather: few clouds\n",
      "weather: 02d\n",
      "\n"
     ]
    }
   ],
   "source": [
    "#read Json\n",
    "with open('berlin_weather_data.json') as json_file:\n",
    "    data = json.load(json_file)\n",
    "    for p in data['weather']:\n",
    "        print('id: ' + str(p['id']))\n",
    "        print('main: ' + p['main'])\n",
    "        print('description: ' + p['description'])\n",
    "        print('icon: ' + p['icon'])\n",
    "        print('')"
   ]
  },
  {
   "cell_type": "code",
   "execution_count": 21,
   "metadata": {},
   "outputs": [
    {
     "data": {
      "text/plain": [
       "'06:24:46'"
      ]
     },
     "execution_count": 21,
     "metadata": {},
     "output_type": "execute_result"
    }
   ],
   "source": [
    "str(dt.datetime.fromtimestamp(x['sys']['sunrise'])).split(' ')[1]"
   ]
  },
  {
   "cell_type": "code",
   "execution_count": null,
   "metadata": {},
   "outputs": [],
   "source": []
  }
 ],
 "metadata": {
  "hide_input": false,
  "kernelspec": {
   "display_name": "Python 3",
   "language": "python",
   "name": "python3"
  },
  "language_info": {
   "codemirror_mode": {
    "name": "ipython",
    "version": 3
   },
   "file_extension": ".py",
   "mimetype": "text/x-python",
   "name": "python",
   "nbconvert_exporter": "python",
   "pygments_lexer": "ipython3",
   "version": "3.7.4"
  },
  "toc": {
   "base_numbering": 1,
   "nav_menu": {},
   "number_sections": true,
   "sideBar": true,
   "skip_h1_title": false,
   "title_cell": "Table of Contents",
   "title_sidebar": "Contents",
   "toc_cell": false,
   "toc_position": {},
   "toc_section_display": true,
   "toc_window_display": false
  },
  "varInspector": {
   "cols": {
    "lenName": 16,
    "lenType": 16,
    "lenVar": 40
   },
   "kernels_config": {
    "python": {
     "delete_cmd_postfix": "",
     "delete_cmd_prefix": "del ",
     "library": "var_list.py",
     "varRefreshCmd": "print(var_dic_list())"
    },
    "r": {
     "delete_cmd_postfix": ") ",
     "delete_cmd_prefix": "rm(",
     "library": "var_list.r",
     "varRefreshCmd": "cat(var_dic_list()) "
    }
   },
   "types_to_exclude": [
    "module",
    "function",
    "builtin_function_or_method",
    "instance",
    "_Feature"
   ],
   "window_display": false
  }
 },
 "nbformat": 4,
 "nbformat_minor": 2
}
