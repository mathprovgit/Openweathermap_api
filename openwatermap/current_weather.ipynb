{
 "cells": [
  {
   "cell_type": "markdown",
   "metadata": {},
   "source": [
    "# Infos"
   ]
  },
  {
   "cell_type": "markdown",
   "metadata": {
    "ExecuteTime": {
     "end_time": "2019-12-13T10:55:59.599232Z",
     "start_time": "2019-12-13T10:55:59.595246Z"
    }
   },
   "source": [
    "source\n",
    "- https://www.geeksforgeeks.org/python-find-current-weather-of-any-city-using-openweathermap-api/\n",
    "- https://openweathermap.org/"
   ]
  },
  {
   "cell_type": "markdown",
   "metadata": {},
   "source": [
    "# import packages"
   ]
  },
  {
   "cell_type": "code",
   "execution_count": 47,
   "metadata": {
    "ExecuteTime": {
     "end_time": "2019-12-13T12:48:23.632209Z",
     "start_time": "2019-12-13T12:48:22.426349Z"
    }
   },
   "outputs": [],
   "source": [
    "import pandas as pd\n",
    "import numpy as np\n",
    "import datetime as dt\n",
    "import matplotlib.pyplot as plt\n",
    "import csv\n",
    "%matplotlib inline\n",
    "import requests, json \n",
    "import os"
   ]
  },
  {
   "cell_type": "markdown",
   "metadata": {},
   "source": [
    "# import API Key"
   ]
  },
  {
   "cell_type": "code",
   "execution_count": 2,
   "metadata": {
    "ExecuteTime": {
     "end_time": "2019-12-13T12:48:23.641186Z",
     "start_time": "2019-12-13T12:48:23.635200Z"
    }
   },
   "outputs": [],
   "source": [
    "with open (\"api_key/api_key.txt\", \"r\") as myfile:\n",
    "    data=myfile.readlines()\n",
    "api_key = data[0]"
   ]
  },
  {
   "cell_type": "markdown",
   "metadata": {
    "ExecuteTime": {
     "end_time": "2019-12-13T10:56:58.394284Z",
     "start_time": "2019-12-13T10:56:58.390294Z"
    }
   },
   "source": [
    "# Get Data via API Call"
   ]
  },
  {
   "cell_type": "code",
   "execution_count": 3,
   "metadata": {
    "ExecuteTime": {
     "end_time": "2019-12-13T12:48:23.790073Z",
     "start_time": "2019-12-13T12:48:23.644432Z"
    }
   },
   "outputs": [],
   "source": [
    "# Enter your API key here \n",
    "def weather_data_call(api_key):\n",
    "    \n",
    "    # base_url variable to store url \n",
    "    base_url =  \"http://api.openweathermap.org/data/2.5/weather?\"\n",
    "\n",
    "    # Give city name \n",
    "    city_name = 'Berlin,de'\n",
    "    complete_url = base_url + \"appid=\" + api_key + \"&q=\" + city_name \n",
    "\n",
    "    # get method of requests module \n",
    "    # return response object \n",
    "    response = requests.get(complete_url) \n",
    "\n",
    "    # json method of response object  \n",
    "    data_json = response.json()\n",
    "    return response"
   ]
  },
  {
   "cell_type": "code",
   "execution_count": 4,
   "metadata": {},
   "outputs": [],
   "source": [
    "#the call\n",
    "x=weather_data_call(api_key)\n",
    "#x.content\n",
    "#x.json()"
   ]
  },
  {
   "cell_type": "markdown",
   "metadata": {},
   "source": [
    "# Export as CSV"
   ]
  },
  {
   "cell_type": "code",
   "execution_count": 5,
   "metadata": {},
   "outputs": [],
   "source": [
    "y=x.json()"
   ]
  },
  {
   "cell_type": "code",
   "execution_count": 6,
   "metadata": {
    "ExecuteTime": {
     "end_time": "2019-12-13T12:48:23.790073Z",
     "start_time": "2019-12-13T12:48:23.644432Z"
    }
   },
   "outputs": [],
   "source": [
    "def format_values(y):\n",
    "    vals=[str(dt.datetime.fromtimestamp(y['dt'])), # \n",
    "          round((y['main']['temp']-273.15),2),\n",
    "          round((y['main']['humidity']),2),\n",
    "          round((y['main']['pressure']),2),\n",
    "          round((y['wind']['speed']),2),\n",
    "          y['wind']['deg'],\n",
    "          y['clouds']['all'],\n",
    "          y['weather'][0]['main'],\n",
    "          y['weather'][0]['description'],\n",
    "          y['weather'][0]['icon'],\n",
    "          str(dt.datetime.fromtimestamp(y['sys']['sunrise'])).split(' ')[1],\n",
    "          str(dt.datetime.fromtimestamp(y['sys']['sunset'])).split(' ')[1]         \n",
    "         ]\n",
    "    \n",
    "    return vals"
   ]
  },
  {
   "cell_type": "markdown",
   "metadata": {},
   "source": [
    "## file name"
   ]
  },
  {
   "cell_type": "code",
   "execution_count": 61,
   "metadata": {},
   "outputs": [],
   "source": [
    "export_file_name='current/current_weater_berlin.csv'"
   ]
  },
  {
   "cell_type": "markdown",
   "metadata": {},
   "source": [
    "## header"
   ]
  },
  {
   "cell_type": "code",
   "execution_count": 62,
   "metadata": {},
   "outputs": [],
   "source": [
    "header=[\"datetime\",\"temperature\",\"humidity\",\"pressure\",\"windspeed\",\"winddir\",\"cloudcoverage\",\"weather\",\"description\",\"weathericon\",\"sunrisetime\",\"sunsettime\"]"
   ]
  },
  {
   "cell_type": "markdown",
   "metadata": {},
   "source": [
    "## data point"
   ]
  },
  {
   "cell_type": "code",
   "execution_count": 65,
   "metadata": {},
   "outputs": [
    {
     "data": {
      "text/plain": [
       "{'datetime': '2020-03-13 09:49:43',\n",
       " 'temperature': 8.04,\n",
       " 'humidity': 61,\n",
       " 'pressure': 1008,\n",
       " 'windspeed': 8.7,\n",
       " 'winddir': 230,\n",
       " 'cloudcoverage': 20,\n",
       " 'weather': 'Clouds',\n",
       " 'description': 'few clouds',\n",
       " 'weathericon': '02d',\n",
       " 'sunrisetime': '06:24:46',\n",
       " 'sunsettime': '18:06:53'}"
      ]
     },
     "execution_count": 65,
     "metadata": {},
     "output_type": "execute_result"
    }
   ],
   "source": [
    "data_point=dict(zip(header, format_values(y)))\n",
    "data_point"
   ]
  },
  {
   "cell_type": "markdown",
   "metadata": {},
   "source": [
    "## append to file"
   ]
  },
  {
   "cell_type": "code",
   "execution_count": 64,
   "metadata": {},
   "outputs": [],
   "source": [
    "#append to csv file\n",
    "with open(export_file_name, 'a', newline='') as f:\n",
    "    header=[\"datetime\",\"temperature\",\"humidity\",\"pressure\",\"windspeed\",\"winddir\",\"cloudcoverage\",\"weather\",\"description\",\"weathericon\",\"sunrisetime\",\"sunsettime\"]\n",
    "    writer = csv.DictWriter(f,delimiter=',',fieldnames=header)\n",
    "    if os.path.getsize(export_file_name)==0:\n",
    "           writer.writeheader()          \n",
    "    writer.writerow(data_point)"
   ]
  },
  {
   "cell_type": "markdown",
   "metadata": {},
   "source": [
    "# create Json database"
   ]
  },
  {
   "cell_type": "code",
   "execution_count": null,
   "metadata": {},
   "outputs": [],
   "source": []
  }
 ],
 "metadata": {
  "hide_input": false,
  "kernelspec": {
   "display_name": "Python 3",
   "language": "python",
   "name": "python3"
  },
  "language_info": {
   "codemirror_mode": {
    "name": "ipython",
    "version": 3
   },
   "file_extension": ".py",
   "mimetype": "text/x-python",
   "name": "python",
   "nbconvert_exporter": "python",
   "pygments_lexer": "ipython3",
   "version": "3.7.4"
  },
  "toc": {
   "base_numbering": 1,
   "nav_menu": {},
   "number_sections": true,
   "sideBar": true,
   "skip_h1_title": false,
   "title_cell": "Table of Contents",
   "title_sidebar": "Contents",
   "toc_cell": false,
   "toc_position": {},
   "toc_section_display": true,
   "toc_window_display": false
  },
  "varInspector": {
   "cols": {
    "lenName": 16,
    "lenType": 16,
    "lenVar": 40
   },
   "kernels_config": {
    "python": {
     "delete_cmd_postfix": "",
     "delete_cmd_prefix": "del ",
     "library": "var_list.py",
     "varRefreshCmd": "print(var_dic_list())"
    },
    "r": {
     "delete_cmd_postfix": ") ",
     "delete_cmd_prefix": "rm(",
     "library": "var_list.r",
     "varRefreshCmd": "cat(var_dic_list()) "
    }
   },
   "types_to_exclude": [
    "module",
    "function",
    "builtin_function_or_method",
    "instance",
    "_Feature"
   ],
   "window_display": false
  }
 },
 "nbformat": 4,
 "nbformat_minor": 2
}
