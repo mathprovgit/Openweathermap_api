{
 "cells": [
  {
   "cell_type": "markdown",
   "metadata": {},
   "source": [
    "# Infos"
   ]
  },
  {
   "cell_type": "markdown",
   "metadata": {
    "ExecuteTime": {
     "end_time": "2019-12-13T10:55:59.599232Z",
     "start_time": "2019-12-13T10:55:59.595246Z"
    }
   },
   "source": [
    "source\n",
    "- https://www.geeksforgeeks.org/python-find-current-weather-of-any-city-using-openweathermap-api/\n",
    "- https://openweathermap.org/"
   ]
  },
  {
   "cell_type": "markdown",
   "metadata": {},
   "source": [
    "# import packages"
   ]
  },
  {
   "cell_type": "code",
   "execution_count": 1,
   "metadata": {
    "ExecuteTime": {
     "end_time": "2019-12-13T12:48:23.632209Z",
     "start_time": "2019-12-13T12:48:22.426349Z"
    }
   },
   "outputs": [],
   "source": [
    "import datetime as dt\n",
    "import matplotlib.pyplot as plt\n",
    "import csv\n",
    "%matplotlib inline\n",
    "import requests, json \n",
    "import os\n",
    "from  myfunc import get_api_data, weather_data_call,format_current\n",
    "import gspread\n",
    "from oauth2client.service_account import ServiceAccountCredentials"
   ]
  },
  {
   "cell_type": "markdown",
   "metadata": {},
   "source": [
    "# import API Key"
   ]
  },
  {
   "cell_type": "code",
   "execution_count": 2,
   "metadata": {},
   "outputs": [],
   "source": [
    "# use self made func\n",
    "data=get_api_data(\"api_data/info.txt\")\n",
    "#arrange data\n",
    "api_key=data[0][:-1]\n",
    "base_url_current=data[1][:-1]\n",
    "#base_url_forcast=data[2][:-1]\n",
    "city_name=data[3][:-1]"
   ]
  },
  {
   "cell_type": "markdown",
   "metadata": {
    "ExecuteTime": {
     "end_time": "2019-12-13T10:56:58.394284Z",
     "start_time": "2019-12-13T10:56:58.390294Z"
    }
   },
   "source": [
    "# Get Data via API Call"
   ]
  },
  {
   "cell_type": "code",
   "execution_count": 3,
   "metadata": {},
   "outputs": [],
   "source": [
    "request=weather_data_call(api_key,base_url_current,city_name)"
   ]
  },
  {
   "cell_type": "code",
   "execution_count": 7,
   "metadata": {},
   "outputs": [
    {
     "data": {
      "text/plain": [
       "{'coord': {'lon': 13.41, 'lat': 52.52},\n",
       " 'weather': [{'id': 801,\n",
       "   'main': 'Clouds',\n",
       "   'description': 'few clouds',\n",
       "   'icon': '02d'}],\n",
       " 'base': 'stations',\n",
       " 'main': {'temp': 280.39,\n",
       "  'feels_like': 277.3,\n",
       "  'temp_min': 278.71,\n",
       "  'temp_max': 282.04,\n",
       "  'pressure': 1025,\n",
       "  'humidity': 48},\n",
       " 'visibility': 10000,\n",
       " 'wind': {'speed': 1},\n",
       " 'clouds': {'all': 20},\n",
       " 'dt': 1584183923,\n",
       " 'sys': {'type': 1,\n",
       "  'id': 1275,\n",
       "  'country': 'DE',\n",
       "  'sunrise': 1584163345,\n",
       "  'sunset': 1584205720},\n",
       " 'timezone': 3600,\n",
       " 'id': 2950159,\n",
       " 'name': 'Berlin',\n",
       " 'cod': 200}"
      ]
     },
     "execution_count": 7,
     "metadata": {},
     "output_type": "execute_result"
    }
   ],
   "source": [
    "#see result\n",
    "#request.content\n",
    "request.json()"
   ]
  },
  {
   "cell_type": "markdown",
   "metadata": {},
   "source": [
    "# Export as CSV"
   ]
  },
  {
   "cell_type": "markdown",
   "metadata": {},
   "source": [
    "## file name"
   ]
  },
  {
   "cell_type": "code",
   "execution_count": 5,
   "metadata": {},
   "outputs": [],
   "source": [
    "export_file_name='current/current_weater_berlin.csv'"
   ]
  },
  {
   "cell_type": "markdown",
   "metadata": {},
   "source": [
    "## header"
   ]
  },
  {
   "cell_type": "code",
   "execution_count": 6,
   "metadata": {},
   "outputs": [
    {
     "data": {
      "text/plain": [
       "12"
      ]
     },
     "execution_count": 6,
     "metadata": {},
     "output_type": "execute_result"
    }
   ],
   "source": [
    "header=[\"datetime\",\"temperature\",\"humidity\",\"pressure\",\n",
    "        \"windspeed\",\"winddir\",\"cloudcoverage\",\"weather\",\n",
    "        \"description\",\"weathericon\",\"sunrisetime\",\"sunsettime\"]\n",
    "len(header)"
   ]
  },
  {
   "cell_type": "markdown",
   "metadata": {},
   "source": [
    "## data point"
   ]
  },
  {
   "cell_type": "code",
   "execution_count": 10,
   "metadata": {},
   "outputs": [
    {
     "ename": "KeyError",
     "evalue": "'deg'",
     "output_type": "error",
     "traceback": [
      "\u001b[1;31m---------------------------------------------------------------------------\u001b[0m",
      "\u001b[1;31mKeyError\u001b[0m                                  Traceback (most recent call last)",
      "\u001b[1;32m<ipython-input-10-af7338087ec0>\u001b[0m in \u001b[0;36m<module>\u001b[1;34m\u001b[0m\n\u001b[1;32m----> 1\u001b[1;33m \u001b[0mdata_point_value\u001b[0m\u001b[1;33m=\u001b[0m\u001b[0mformat_current\u001b[0m\u001b[1;33m(\u001b[0m\u001b[0mrequest\u001b[0m\u001b[1;33m)\u001b[0m\u001b[1;33m\u001b[0m\u001b[1;33m\u001b[0m\u001b[0m\n\u001b[0m\u001b[0;32m      2\u001b[0m \u001b[0mdata_point_value\u001b[0m\u001b[1;33m\u001b[0m\u001b[1;33m\u001b[0m\u001b[0m\n",
      "\u001b[1;32m~\\Desktop\\0_TUberlin\\17_programming\\github_repos\\Weather_data\\openwatermap\\myfunc.py\u001b[0m in \u001b[0;36mformat_current\u001b[1;34m(request)\u001b[0m\n\u001b[0;32m     38\u001b[0m           \u001b[0mround\u001b[0m\u001b[1;33m(\u001b[0m\u001b[1;33m(\u001b[0m\u001b[0my\u001b[0m\u001b[1;33m[\u001b[0m\u001b[1;34m'main'\u001b[0m\u001b[1;33m]\u001b[0m\u001b[1;33m[\u001b[0m\u001b[1;34m'pressure'\u001b[0m\u001b[1;33m]\u001b[0m\u001b[1;33m)\u001b[0m\u001b[1;33m,\u001b[0m\u001b[1;36m2\u001b[0m\u001b[1;33m)\u001b[0m\u001b[1;33m,\u001b[0m\u001b[1;33m\u001b[0m\u001b[1;33m\u001b[0m\u001b[0m\n\u001b[0;32m     39\u001b[0m           \u001b[0mround\u001b[0m\u001b[1;33m(\u001b[0m\u001b[1;33m(\u001b[0m\u001b[0my\u001b[0m\u001b[1;33m[\u001b[0m\u001b[1;34m'wind'\u001b[0m\u001b[1;33m]\u001b[0m\u001b[1;33m[\u001b[0m\u001b[1;34m'speed'\u001b[0m\u001b[1;33m]\u001b[0m\u001b[1;33m)\u001b[0m\u001b[1;33m,\u001b[0m\u001b[1;36m2\u001b[0m\u001b[1;33m)\u001b[0m\u001b[1;33m,\u001b[0m\u001b[1;33m\u001b[0m\u001b[1;33m\u001b[0m\u001b[0m\n\u001b[1;32m---> 40\u001b[1;33m           \u001b[0my\u001b[0m\u001b[1;33m[\u001b[0m\u001b[1;34m'wind'\u001b[0m\u001b[1;33m]\u001b[0m\u001b[1;33m[\u001b[0m\u001b[1;34m'deg'\u001b[0m\u001b[1;33m]\u001b[0m\u001b[1;33m,\u001b[0m\u001b[1;33m\u001b[0m\u001b[1;33m\u001b[0m\u001b[0m\n\u001b[0m\u001b[0;32m     41\u001b[0m           \u001b[0my\u001b[0m\u001b[1;33m[\u001b[0m\u001b[1;34m'clouds'\u001b[0m\u001b[1;33m]\u001b[0m\u001b[1;33m[\u001b[0m\u001b[1;34m'all'\u001b[0m\u001b[1;33m]\u001b[0m\u001b[1;33m,\u001b[0m\u001b[1;33m\u001b[0m\u001b[1;33m\u001b[0m\u001b[0m\n\u001b[0;32m     42\u001b[0m           \u001b[0my\u001b[0m\u001b[1;33m[\u001b[0m\u001b[1;34m'weather'\u001b[0m\u001b[1;33m]\u001b[0m\u001b[1;33m[\u001b[0m\u001b[1;36m0\u001b[0m\u001b[1;33m]\u001b[0m\u001b[1;33m[\u001b[0m\u001b[1;34m'main'\u001b[0m\u001b[1;33m]\u001b[0m\u001b[1;33m,\u001b[0m\u001b[1;33m\u001b[0m\u001b[1;33m\u001b[0m\u001b[0m\n",
      "\u001b[1;31mKeyError\u001b[0m: 'deg'"
     ]
    }
   ],
   "source": [
    "data_point_value=format_current(request)\n",
    "data_point_value"
   ]
  },
  {
   "cell_type": "code",
   "execution_count": 8,
   "metadata": {},
   "outputs": [
    {
     "name": "stdout",
     "output_type": "stream",
     "text": [
      "['open weather API error', 'open weather API error', 'open weather API error', 'open weather API error', 'open weather API error', 'open weather API error', 'open weather API error', 'open weather API error', 'open weather API error', 'open weather API error', 'open weather API error', 'open weather API error']\n"
     ]
    }
   ],
   "source": [
    "try:\n",
    "    data_point_value=format_current(request)\n",
    "    data_point=dict(zip(header, data_point_value))\n",
    "    data_point\n",
    "    \n",
    "except:\n",
    "    data_point_value=[]\n",
    "    for i in range(len(header)):\n",
    "        data_point_value.append('open weather API error')\n",
    "    print(data_point_value)\n"
   ]
  },
  {
   "cell_type": "markdown",
   "metadata": {},
   "source": [
    "## append to file"
   ]
  },
  {
   "cell_type": "code",
   "execution_count": 8,
   "metadata": {},
   "outputs": [],
   "source": [
    "#append to csv file\n",
    "with open(export_file_name, 'a', newline='') as f:\n",
    "    header=[\"datetime\",\"temperature\",\"humidity\",\"pressure\",\"windspeed\",\"winddir\",\"cloudcoverage\",\"weather\",\"description\",\"weathericon\",\"sunrisetime\",\"sunsettime\"]\n",
    "    writer = csv.DictWriter(f,delimiter=',',fieldnames=header)\n",
    "    if os.path.getsize(export_file_name)==0:\n",
    "           writer.writeheader()          \n",
    "    writer.writerow(data_point)"
   ]
  },
  {
   "cell_type": "markdown",
   "metadata": {},
   "source": [
    "# create Json database"
   ]
  },
  {
   "cell_type": "code",
   "execution_count": null,
   "metadata": {},
   "outputs": [],
   "source": []
  },
  {
   "cell_type": "markdown",
   "metadata": {},
   "source": [
    "# google API"
   ]
  },
  {
   "cell_type": "code",
   "execution_count": 35,
   "metadata": {},
   "outputs": [],
   "source": [
    "#authentication to google api using JSON credential file\n",
    "scope = ['https://spreadsheets.google.com/feeds','https://www.googleapis.com/auth/drive']\n",
    "creds = ServiceAccountCredentials.from_json_keyfile_name('api_data/WDcred.json', scope)\n",
    "client = gspread.authorize(creds)"
   ]
  },
  {
   "cell_type": "code",
   "execution_count": 36,
   "metadata": {},
   "outputs": [],
   "source": [
    "#get current weather berlin sheet\n",
    "current_weather = client.open('current_weather_berlin')"
   ]
  },
  {
   "cell_type": "code",
   "execution_count": 37,
   "metadata": {},
   "outputs": [],
   "source": [
    "#append row"
   ]
  },
  {
   "cell_type": "code",
   "execution_count": 38,
   "metadata": {
    "scrolled": true
   },
   "outputs": [
    {
     "data": {
      "text/plain": [
       "{'spreadsheetId': '1Us3ubvtweNTf6NncVXHeW6XX5DeeJ8D4lvAfP6le1GQ',\n",
       " 'tableRange': 'current_weater_berlin!A1:L14',\n",
       " 'updates': {'spreadsheetId': '1Us3ubvtweNTf6NncVXHeW6XX5DeeJ8D4lvAfP6le1GQ',\n",
       "  'updatedRange': 'current_weater_berlin!A15:L15',\n",
       "  'updatedRows': 1,\n",
       "  'updatedColumns': 12,\n",
       "  'updatedCells': 12}}"
      ]
     },
     "execution_count": 38,
     "metadata": {},
     "output_type": "execute_result"
    }
   ],
   "source": [
    "current_weather.sheet1.append_row(data_point_value)"
   ]
  },
  {
   "cell_type": "code",
   "execution_count": null,
   "metadata": {},
   "outputs": [],
   "source": []
  }
 ],
 "metadata": {
  "hide_input": false,
  "kernelspec": {
   "display_name": "Python 3",
   "language": "python",
   "name": "python3"
  },
  "language_info": {
   "codemirror_mode": {
    "name": "ipython",
    "version": 3
   },
   "file_extension": ".py",
   "mimetype": "text/x-python",
   "name": "python",
   "nbconvert_exporter": "python",
   "pygments_lexer": "ipython3",
   "version": "3.7.4"
  },
  "toc": {
   "base_numbering": 1,
   "nav_menu": {},
   "number_sections": true,
   "sideBar": true,
   "skip_h1_title": false,
   "title_cell": "Table of Contents",
   "title_sidebar": "Contents",
   "toc_cell": false,
   "toc_position": {},
   "toc_section_display": true,
   "toc_window_display": false
  },
  "varInspector": {
   "cols": {
    "lenName": 16,
    "lenType": 16,
    "lenVar": 40
   },
   "kernels_config": {
    "python": {
     "delete_cmd_postfix": "",
     "delete_cmd_prefix": "del ",
     "library": "var_list.py",
     "varRefreshCmd": "print(var_dic_list())"
    },
    "r": {
     "delete_cmd_postfix": ") ",
     "delete_cmd_prefix": "rm(",
     "library": "var_list.r",
     "varRefreshCmd": "cat(var_dic_list()) "
    }
   },
   "types_to_exclude": [
    "module",
    "function",
    "builtin_function_or_method",
    "instance",
    "_Feature"
   ],
   "window_display": false
  }
 },
 "nbformat": 4,
 "nbformat_minor": 2
}
