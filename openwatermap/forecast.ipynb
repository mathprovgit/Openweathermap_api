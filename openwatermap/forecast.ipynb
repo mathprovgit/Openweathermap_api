{
 "cells": [
  {
   "cell_type": "markdown",
   "metadata": {},
   "source": [
    "# Infos"
   ]
  },
  {
   "cell_type": "markdown",
   "metadata": {
    "ExecuteTime": {
     "end_time": "2019-12-13T10:55:59.599232Z",
     "start_time": "2019-12-13T10:55:59.595246Z"
    }
   },
   "source": [
    "source\n",
    "- https://www.geeksforgeeks.org/python-find-current-weather-of-any-city-using-openweathermap-api/\n",
    "- https://openweathermap.org/"
   ]
  },
  {
   "cell_type": "markdown",
   "metadata": {},
   "source": [
    "# import packages"
   ]
  },
  {
   "cell_type": "code",
   "execution_count": 1,
   "metadata": {
    "ExecuteTime": {
     "end_time": "2019-12-13T12:48:23.632209Z",
     "start_time": "2019-12-13T12:48:22.426349Z"
    }
   },
   "outputs": [],
   "source": [
    "#import pandas as pd\n",
    "#import numpy as np\n",
    "#import datetime as dt\n",
    "import matplotlib.pyplot as plt\n",
    "%matplotlib inline\n",
    "#import requests, json \n",
    "from  myfunc import get_api_data, weather_data_call,format_forcast\n",
    "import gspread\n",
    "from oauth2client.service_account import ServiceAccountCredentials"
   ]
  },
  {
   "cell_type": "markdown",
   "metadata": {},
   "source": [
    "# import API Key"
   ]
  },
  {
   "cell_type": "code",
   "execution_count": 2,
   "metadata": {
    "ExecuteTime": {
     "end_time": "2019-12-13T12:48:23.641186Z",
     "start_time": "2019-12-13T12:48:23.635200Z"
    }
   },
   "outputs": [],
   "source": [
    "# use self made func\n",
    "data=get_api_data(\"api_data/info.txt\")\n",
    "#arrange data\n",
    "api_key=data[0][:-1]\n",
    "#base_url_current=data[1][:-1]\n",
    "base_url_forcast=data[2][:-1]\n",
    "city_name=data[3][:-1]"
   ]
  },
  {
   "cell_type": "markdown",
   "metadata": {
    "ExecuteTime": {
     "end_time": "2019-12-13T10:56:58.394284Z",
     "start_time": "2019-12-13T10:56:58.390294Z"
    }
   },
   "source": [
    "# Get Data via API Call"
   ]
  },
  {
   "cell_type": "code",
   "execution_count": 2,
   "metadata": {},
   "outputs": [
    {
     "ename": "NameError",
     "evalue": "name 'weather_data_call' is not defined",
     "output_type": "error",
     "traceback": [
      "\u001b[1;31m---------------------------------------------------------------------------\u001b[0m",
      "\u001b[1;31mNameError\u001b[0m                                 Traceback (most recent call last)",
      "\u001b[1;32m<ipython-input-2-c7439d07b2f6>\u001b[0m in \u001b[0;36m<module>\u001b[1;34m\u001b[0m\n\u001b[1;32m----> 1\u001b[1;33m \u001b[0mrequest\u001b[0m\u001b[1;33m=\u001b[0m\u001b[0mweather_data_call\u001b[0m\u001b[1;33m(\u001b[0m\u001b[0mapi_key\u001b[0m\u001b[1;33m,\u001b[0m\u001b[0mbase_url_forcast\u001b[0m\u001b[1;33m,\u001b[0m\u001b[1;34m'city_name'\u001b[0m\u001b[1;33m)\u001b[0m\u001b[1;33m\u001b[0m\u001b[1;33m\u001b[0m\u001b[0m\n\u001b[0m",
      "\u001b[1;31mNameError\u001b[0m: name 'weather_data_call' is not defined"
     ]
    }
   ],
   "source": [
    "request=weather_data_call(api_key,base_url_forcast,city_name)"
   ]
  },
  {
   "cell_type": "code",
   "execution_count": 4,
   "metadata": {},
   "outputs": [],
   "source": [
    "#see result\n",
    "#request.content\n",
    "#request.json()"
   ]
  },
  {
   "cell_type": "markdown",
   "metadata": {},
   "source": [
    "# export CSV "
   ]
  },
  {
   "cell_type": "markdown",
   "metadata": {},
   "source": [
    "## Format result"
   ]
  },
  {
   "cell_type": "code",
   "execution_count": 5,
   "metadata": {},
   "outputs": [],
   "source": [
    "df_weather=format_forcast(request)"
   ]
  },
  {
   "cell_type": "code",
   "execution_count": 6,
   "metadata": {
    "ExecuteTime": {
     "end_time": "2019-12-13T12:48:23.798012Z",
     "start_time": "2019-12-13T12:48:23.793026Z"
    },
    "scrolled": false
   },
   "outputs": [
    {
     "data": {
      "text/html": [
       "<div>\n",
       "<style scoped>\n",
       "    .dataframe tbody tr th:only-of-type {\n",
       "        vertical-align: middle;\n",
       "    }\n",
       "\n",
       "    .dataframe tbody tr th {\n",
       "        vertical-align: top;\n",
       "    }\n",
       "\n",
       "    .dataframe thead th {\n",
       "        text-align: right;\n",
       "    }\n",
       "</style>\n",
       "<table border=\"1\" class=\"dataframe\">\n",
       "  <thead>\n",
       "    <tr style=\"text-align: right;\">\n",
       "      <th></th>\n",
       "      <th>temp</th>\n",
       "      <th>humidity</th>\n",
       "      <th>wind_speed</th>\n",
       "      <th>wind_dir</th>\n",
       "      <th>weather</th>\n",
       "    </tr>\n",
       "    <tr>\n",
       "      <th>datetime</th>\n",
       "      <th></th>\n",
       "      <th></th>\n",
       "      <th></th>\n",
       "      <th></th>\n",
       "      <th></th>\n",
       "    </tr>\n",
       "  </thead>\n",
       "  <tbody>\n",
       "    <tr>\n",
       "      <th>2020-03-13 15:00:00</th>\n",
       "      <td>9.20</td>\n",
       "      <td>66</td>\n",
       "      <td>9.29</td>\n",
       "      <td>268</td>\n",
       "      <td>Rain</td>\n",
       "    </tr>\n",
       "    <tr>\n",
       "      <th>2020-03-13 18:00:00</th>\n",
       "      <td>7.74</td>\n",
       "      <td>68</td>\n",
       "      <td>7.48</td>\n",
       "      <td>279</td>\n",
       "      <td>Rain</td>\n",
       "    </tr>\n",
       "    <tr>\n",
       "      <th>2020-03-13 21:00:00</th>\n",
       "      <td>4.63</td>\n",
       "      <td>64</td>\n",
       "      <td>7.17</td>\n",
       "      <td>291</td>\n",
       "      <td>Clear</td>\n",
       "    </tr>\n",
       "    <tr>\n",
       "      <th>2020-03-14 00:00:00</th>\n",
       "      <td>2.75</td>\n",
       "      <td>73</td>\n",
       "      <td>4.72</td>\n",
       "      <td>306</td>\n",
       "      <td>Clouds</td>\n",
       "    </tr>\n",
       "    <tr>\n",
       "      <th>2020-03-14 03:00:00</th>\n",
       "      <td>1.08</td>\n",
       "      <td>74</td>\n",
       "      <td>3.14</td>\n",
       "      <td>321</td>\n",
       "      <td>Clouds</td>\n",
       "    </tr>\n",
       "  </tbody>\n",
       "</table>\n",
       "</div>"
      ],
      "text/plain": [
       "                     temp  humidity  wind_speed  wind_dir weather\n",
       "datetime                                                         \n",
       "2020-03-13 15:00:00  9.20        66        9.29       268    Rain\n",
       "2020-03-13 18:00:00  7.74        68        7.48       279    Rain\n",
       "2020-03-13 21:00:00  4.63        64        7.17       291   Clear\n",
       "2020-03-14 00:00:00  2.75        73        4.72       306  Clouds\n",
       "2020-03-14 03:00:00  1.08        74        3.14       321  Clouds"
      ]
     },
     "execution_count": 6,
     "metadata": {},
     "output_type": "execute_result"
    }
   ],
   "source": [
    "df_weather.head()"
   ]
  },
  {
   "cell_type": "markdown",
   "metadata": {},
   "source": [
    "## Export"
   ]
  },
  {
   "cell_type": "code",
   "execution_count": 7,
   "metadata": {},
   "outputs": [],
   "source": [
    "export_file_name=''\n",
    "export_file_name='forecast/forcast_'+str(df_weather.index[0]).replace(' ','_').replace(':','-')+'.csv'\n",
    "df_weather.to_csv(export_file_name,sep=',')"
   ]
  },
  {
   "cell_type": "markdown",
   "metadata": {
    "ExecuteTime": {
     "end_time": "2019-12-13T11:22:25.119371Z",
     "start_time": "2019-12-13T11:22:25.111393Z"
    }
   },
   "source": [
    "## Plot"
   ]
  },
  {
   "cell_type": "code",
   "execution_count": 8,
   "metadata": {
    "ExecuteTime": {
     "end_time": "2019-12-13T12:48:24.274520Z",
     "start_time": "2019-12-13T12:48:23.861841Z"
    }
   },
   "outputs": [
    {
     "data": {
      "image/png": "[encoded data removed]",
      "text/plain": [
       "<Figure size 1008x432 with 1 Axes>"
      ]
     },
     "metadata": {
      "needs_background": "light"
     },
     "output_type": "display_data"
    }
   ],
   "source": [
    "if True:\n",
    "    plt.figure(figsize=(14,6))\n",
    "    df_weather['temp'].plot()\n",
    "    plt.xlabel('Date time')\n",
    "    plt.ylabel('Temperature')\n",
    "    plt.title('\\nTemperature in Berlin\\n')\n",
    "    plt.grid()\n",
    "    plt.legend()\n",
    "    plt.show()"
   ]
  },
  {
   "cell_type": "markdown",
   "metadata": {},
   "source": [
    "# Export Json database"
   ]
  },
  {
   "cell_type": "code",
   "execution_count": 9,
   "metadata": {},
   "outputs": [],
   "source": [
    "#print\n",
    "#request.content\n",
    "#request.json()"
   ]
  },
  {
   "cell_type": "code",
   "execution_count": 10,
   "metadata": {},
   "outputs": [],
   "source": [
    "#write Json\n",
    "export_file_name=''\n",
    "export_file_name='forecast/forcast_'+str(df_weather.index[0]).replace(' ','_').replace(':','-')+'.json'"
   ]
  },
  {
   "cell_type": "code",
   "execution_count": 11,
   "metadata": {},
   "outputs": [],
   "source": [
    "with open(export_file_name, 'wb') as f:\n",
    "    f.write(request.content)"
   ]
  },
  {
   "cell_type": "code",
   "execution_count": 12,
   "metadata": {
    "code_folding": [],
    "scrolled": true
   },
   "outputs": [
    {
     "name": "stdout",
     "output_type": "stream",
     "text": [
      "282.35\n",
      "280.89\n",
      "277.78\n",
      "275.9\n",
      "274.23\n"
     ]
    }
   ],
   "source": [
    "#read Json\n",
    "with open(export_file_name) as json_file:\n",
    "    data = json.load(json_file)\n",
    "    i=0\n",
    "    for p in data['list']:\n",
    "        if i<5:\n",
    "            print(p['main']['temp'])\n",
    "        i+=1\n",
    "        \n",
    "        "
   ]
  },
  {
   "cell_type": "markdown",
   "metadata": {},
   "source": [
    "# google API"
   ]
  },
  {
   "cell_type": "code",
   "execution_count": 10,
   "metadata": {},
   "outputs": [],
   "source": []
  },
  {
   "cell_type": "code",
   "execution_count": 15,
   "metadata": {},
   "outputs": [],
   "source": [
    "#authentication to google api using JSON credential file\n",
    "scope = ['https://spreadsheets.google.com/feeds','https://www.googleapis.com/auth/drive']\n",
    "creds = ServiceAccountCredentials.from_json_keyfile_name('api_data/WDcred.json', scope)\n",
    "client = gspread.authorize(creds)"
   ]
  },
  {
   "cell_type": "code",
   "execution_count": 16,
   "metadata": {},
   "outputs": [],
   "source": [
    "#get current weather berlin sheet\n",
    "forecast_weather = client.open('forcast_weater_berlin')"
   ]
  },
  {
   "cell_type": "code",
   "execution_count": null,
   "metadata": {},
   "outputs": [],
   "source": [
    "forecast_weather"
   ]
  },
  {
   "cell_type": "code",
   "execution_count": null,
   "metadata": {},
   "outputs": [],
   "source": [
    "#rewrite data"
   ]
  },
  {
   "cell_type": "code",
   "execution_count": 13,
   "metadata": {
    "scrolled": true
   },
   "outputs": [
    {
     "data": {
      "text/plain": [
       "{'spreadsheetId': '1Us3ubvtweNTf6NncVXHeW6XX5DeeJ8D4lvAfP6le1GQ',\n",
       " 'tableRange': 'current_weater_berlin!A1:L2',\n",
       " 'updates': {'spreadsheetId': '1Us3ubvtweNTf6NncVXHeW6XX5DeeJ8D4lvAfP6le1GQ',\n",
       "  'updatedRange': 'current_weater_berlin!A3:L3',\n",
       "  'updatedRows': 1,\n",
       "  'updatedColumns': 12,\n",
       "  'updatedCells': 12}}"
      ]
     },
     "execution_count": 13,
     "metadata": {},
     "output_type": "execute_result"
    }
   ],
   "source": []
  },
  {
   "cell_type": "code",
   "execution_count": null,
   "metadata": {},
   "outputs": [],
   "source": []
  }
 ],
 "metadata": {
  "hide_input": false,
  "kernelspec": {
   "display_name": "Python 3",
   "language": "python",
   "name": "python3"
  },
  "language_info": {
   "codemirror_mode": {
    "name": "ipython",
    "version": 3
   },
   "file_extension": ".py",
   "mimetype": "text/x-python",
   "name": "python",
   "nbconvert_exporter": "python",
   "pygments_lexer": "ipython3",
   "version": "3.7.4"
  },
  "toc": {
   "base_numbering": 1,
   "nav_menu": {},
   "number_sections": true,
   "sideBar": true,
   "skip_h1_title": false,
   "title_cell": "Table of Contents",
   "title_sidebar": "Contents",
   "toc_cell": false,
   "toc_position": {},
   "toc_section_display": true,
   "toc_window_display": false
  },
  "varInspector": {
   "cols": {
    "lenName": 16,
    "lenType": 16,
    "lenVar": 40
   },
   "kernels_config": {
    "python": {
     "delete_cmd_postfix": "",
     "delete_cmd_prefix": "del ",
     "library": "var_list.py",
     "varRefreshCmd": "print(var_dic_list())"
    },
    "r": {
     "delete_cmd_postfix": ") ",
     "delete_cmd_prefix": "rm(",
     "library": "var_list.r",
     "varRefreshCmd": "cat(var_dic_list()) "
    }
   },
   "types_to_exclude": [
    "module",
    "function",
    "builtin_function_or_method",
    "instance",
    "_Feature"
   ],
   "window_display": false
  }
 },
 "nbformat": 4,
 "nbformat_minor": 2
}
