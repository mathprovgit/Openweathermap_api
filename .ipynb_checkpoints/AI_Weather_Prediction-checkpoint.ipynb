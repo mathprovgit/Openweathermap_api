{
 "cells": [
  {
   "cell_type": "markdown",
   "metadata": {},
   "source": [
    "# Objectives"
   ]
  },
  {
   "cell_type": "markdown",
   "metadata": {},
   "source": [
    "- [x] get data from database\n",
    "- [ ] data wrangling\n",
    "- [ ] ml model \n",
    "- [ ] compare with traditional prediction"
   ]
  },
  {
   "cell_type": "markdown",
   "metadata": {},
   "source": [
    "# source"
   ]
  },
  {
   "cell_type": "markdown",
   "metadata": {},
   "source": [
    " data provided by Openweathermap"
   ]
  },
  {
   "cell_type": "markdown",
   "metadata": {},
   "source": [
    "# Imports"
   ]
  },
  {
   "cell_type": "code",
   "execution_count": 1,
   "metadata": {},
   "outputs": [],
   "source": [
    "# os\n",
    "import os\n",
    "\n",
    "#googlesheets\n",
    "import gspread\n",
    "from oauth2client.service_account import ServiceAccountCredentials\n",
    "from df2gspread import df2gspread as d2g\n",
    "\n",
    "#data wrangling\n",
    "import pandas as pd\n",
    "import numpy as np\n",
    "\n",
    "#data science\n",
    "\n",
    "#data visualisation\n",
    "import matplotlib.pyplot as plt\n",
    "%matplotlib inline\n",
    "import seaborn as sns\n"
   ]
  },
  {
   "cell_type": "markdown",
   "metadata": {},
   "source": [
    "# Data imports"
   ]
  },
  {
   "cell_type": "markdown",
   "metadata": {},
   "source": [
    "## google sheet authentication"
   ]
  },
  {
   "cell_type": "code",
   "execution_count": 4,
   "metadata": {},
   "outputs": [
    {
     "ename": "HttpAccessTokenRefreshError",
     "evalue": "invalid_grant: Invalid JWT Signature.",
     "output_type": "error",
     "traceback": [
      "\u001b[1;31m---------------------------------------------------------------------------\u001b[0m",
      "\u001b[1;31mHttpAccessTokenRefreshError\u001b[0m               Traceback (most recent call last)",
      "\u001b[1;32m<ipython-input-4-a3e41c44d546>\u001b[0m in \u001b[0;36m<module>\u001b[1;34m\u001b[0m\n\u001b[0;32m      2\u001b[0m \u001b[0mscope\u001b[0m \u001b[1;33m=\u001b[0m \u001b[1;33m[\u001b[0m\u001b[1;34m'https://spreadsheets.google.com/feeds'\u001b[0m\u001b[1;33m,\u001b[0m\u001b[1;34m'https://www.googleapis.com/auth/drive'\u001b[0m\u001b[1;33m]\u001b[0m\u001b[1;33m\u001b[0m\u001b[1;33m\u001b[0m\u001b[0m\n\u001b[0;32m      3\u001b[0m \u001b[0mcreds\u001b[0m \u001b[1;33m=\u001b[0m \u001b[0mServiceAccountCredentials\u001b[0m\u001b[1;33m.\u001b[0m\u001b[0mfrom_json_keyfile_name\u001b[0m\u001b[1;33m(\u001b[0m\u001b[1;34m'api_data/WDcred.json'\u001b[0m\u001b[1;33m,\u001b[0m \u001b[0mscope\u001b[0m\u001b[1;33m)\u001b[0m\u001b[1;33m\u001b[0m\u001b[1;33m\u001b[0m\u001b[0m\n\u001b[1;32m----> 4\u001b[1;33m \u001b[0mclient\u001b[0m \u001b[1;33m=\u001b[0m \u001b[0mgspread\u001b[0m\u001b[1;33m.\u001b[0m\u001b[0mauthorize\u001b[0m\u001b[1;33m(\u001b[0m\u001b[0mcreds\u001b[0m\u001b[1;33m)\u001b[0m\u001b[1;33m\u001b[0m\u001b[1;33m\u001b[0m\u001b[0m\n\u001b[0m",
      "\u001b[1;32m~\\Anaconda3\\lib\\site-packages\\gspread\\__init__.py\u001b[0m in \u001b[0;36mauthorize\u001b[1;34m(credentials, client_class)\u001b[0m\n\u001b[0;32m     36\u001b[0m     \"\"\"\n\u001b[0;32m     37\u001b[0m     \u001b[0mclient\u001b[0m \u001b[1;33m=\u001b[0m \u001b[0mclient_class\u001b[0m\u001b[1;33m(\u001b[0m\u001b[0mauth\u001b[0m\u001b[1;33m=\u001b[0m\u001b[0mcredentials\u001b[0m\u001b[1;33m)\u001b[0m\u001b[1;33m\u001b[0m\u001b[1;33m\u001b[0m\u001b[0m\n\u001b[1;32m---> 38\u001b[1;33m     \u001b[0mclient\u001b[0m\u001b[1;33m.\u001b[0m\u001b[0mlogin\u001b[0m\u001b[1;33m(\u001b[0m\u001b[1;33m)\u001b[0m\u001b[1;33m\u001b[0m\u001b[1;33m\u001b[0m\u001b[0m\n\u001b[0m\u001b[0;32m     39\u001b[0m     \u001b[1;32mreturn\u001b[0m \u001b[0mclient\u001b[0m\u001b[1;33m\u001b[0m\u001b[1;33m\u001b[0m\u001b[0m\n",
      "\u001b[1;32m~\\Anaconda3\\lib\\site-packages\\gspread\\client.py\u001b[0m in \u001b[0;36mlogin\u001b[1;34m(self)\u001b[0m\n\u001b[0;32m     49\u001b[0m \u001b[1;33m\u001b[0m\u001b[0m\n\u001b[0;32m     50\u001b[0m             \u001b[0mhttp\u001b[0m \u001b[1;33m=\u001b[0m \u001b[0mhttplib2\u001b[0m\u001b[1;33m.\u001b[0m\u001b[0mHttp\u001b[0m\u001b[1;33m(\u001b[0m\u001b[1;33m)\u001b[0m\u001b[1;33m\u001b[0m\u001b[1;33m\u001b[0m\u001b[0m\n\u001b[1;32m---> 51\u001b[1;33m             \u001b[0mself\u001b[0m\u001b[1;33m.\u001b[0m\u001b[0mauth\u001b[0m\u001b[1;33m.\u001b[0m\u001b[0mrefresh\u001b[0m\u001b[1;33m(\u001b[0m\u001b[0mhttp\u001b[0m\u001b[1;33m)\u001b[0m\u001b[1;33m\u001b[0m\u001b[1;33m\u001b[0m\u001b[0m\n\u001b[0m\u001b[0;32m     52\u001b[0m \u001b[1;33m\u001b[0m\u001b[0m\n\u001b[0;32m     53\u001b[0m         self.session.headers.update({\n",
      "\u001b[1;32m~\\Anaconda3\\lib\\site-packages\\oauth2client\\client.py\u001b[0m in \u001b[0;36mrefresh\u001b[1;34m(self, http)\u001b[0m\n\u001b[0;32m    543\u001b[0m                   \u001b[0mrequest\u001b[0m\u001b[1;33m.\u001b[0m\u001b[1;33m\u001b[0m\u001b[1;33m\u001b[0m\u001b[0m\n\u001b[0;32m    544\u001b[0m         \"\"\"\n\u001b[1;32m--> 545\u001b[1;33m         \u001b[0mself\u001b[0m\u001b[1;33m.\u001b[0m\u001b[0m_refresh\u001b[0m\u001b[1;33m(\u001b[0m\u001b[0mhttp\u001b[0m\u001b[1;33m)\u001b[0m\u001b[1;33m\u001b[0m\u001b[1;33m\u001b[0m\u001b[0m\n\u001b[0m\u001b[0;32m    546\u001b[0m \u001b[1;33m\u001b[0m\u001b[0m\n\u001b[0;32m    547\u001b[0m     \u001b[1;32mdef\u001b[0m \u001b[0mrevoke\u001b[0m\u001b[1;33m(\u001b[0m\u001b[0mself\u001b[0m\u001b[1;33m,\u001b[0m \u001b[0mhttp\u001b[0m\u001b[1;33m)\u001b[0m\u001b[1;33m:\u001b[0m\u001b[1;33m\u001b[0m\u001b[1;33m\u001b[0m\u001b[0m\n",
      "\u001b[1;32m~\\Anaconda3\\lib\\site-packages\\oauth2client\\client.py\u001b[0m in \u001b[0;36m_refresh\u001b[1;34m(self, http)\u001b[0m\n\u001b[0;32m    747\u001b[0m         \"\"\"\n\u001b[0;32m    748\u001b[0m         \u001b[1;32mif\u001b[0m \u001b[1;32mnot\u001b[0m \u001b[0mself\u001b[0m\u001b[1;33m.\u001b[0m\u001b[0mstore\u001b[0m\u001b[1;33m:\u001b[0m\u001b[1;33m\u001b[0m\u001b[1;33m\u001b[0m\u001b[0m\n\u001b[1;32m--> 749\u001b[1;33m             \u001b[0mself\u001b[0m\u001b[1;33m.\u001b[0m\u001b[0m_do_refresh_request\u001b[0m\u001b[1;33m(\u001b[0m\u001b[0mhttp\u001b[0m\u001b[1;33m)\u001b[0m\u001b[1;33m\u001b[0m\u001b[1;33m\u001b[0m\u001b[0m\n\u001b[0m\u001b[0;32m    750\u001b[0m         \u001b[1;32melse\u001b[0m\u001b[1;33m:\u001b[0m\u001b[1;33m\u001b[0m\u001b[1;33m\u001b[0m\u001b[0m\n\u001b[0;32m    751\u001b[0m             \u001b[0mself\u001b[0m\u001b[1;33m.\u001b[0m\u001b[0mstore\u001b[0m\u001b[1;33m.\u001b[0m\u001b[0macquire_lock\u001b[0m\u001b[1;33m(\u001b[0m\u001b[1;33m)\u001b[0m\u001b[1;33m\u001b[0m\u001b[1;33m\u001b[0m\u001b[0m\n",
      "\u001b[1;32m~\\Anaconda3\\lib\\site-packages\\oauth2client\\client.py\u001b[0m in \u001b[0;36m_do_refresh_request\u001b[1;34m(self, http)\u001b[0m\n\u001b[0;32m    817\u001b[0m             \u001b[1;32mexcept\u001b[0m \u001b[1;33m(\u001b[0m\u001b[0mTypeError\u001b[0m\u001b[1;33m,\u001b[0m \u001b[0mValueError\u001b[0m\u001b[1;33m)\u001b[0m\u001b[1;33m:\u001b[0m\u001b[1;33m\u001b[0m\u001b[1;33m\u001b[0m\u001b[0m\n\u001b[0;32m    818\u001b[0m                 \u001b[1;32mpass\u001b[0m\u001b[1;33m\u001b[0m\u001b[1;33m\u001b[0m\u001b[0m\n\u001b[1;32m--> 819\u001b[1;33m             \u001b[1;32mraise\u001b[0m \u001b[0mHttpAccessTokenRefreshError\u001b[0m\u001b[1;33m(\u001b[0m\u001b[0merror_msg\u001b[0m\u001b[1;33m,\u001b[0m \u001b[0mstatus\u001b[0m\u001b[1;33m=\u001b[0m\u001b[0mresp\u001b[0m\u001b[1;33m.\u001b[0m\u001b[0mstatus\u001b[0m\u001b[1;33m)\u001b[0m\u001b[1;33m\u001b[0m\u001b[1;33m\u001b[0m\u001b[0m\n\u001b[0m\u001b[0;32m    820\u001b[0m \u001b[1;33m\u001b[0m\u001b[0m\n\u001b[0;32m    821\u001b[0m     \u001b[1;32mdef\u001b[0m \u001b[0m_revoke\u001b[0m\u001b[1;33m(\u001b[0m\u001b[0mself\u001b[0m\u001b[1;33m,\u001b[0m \u001b[0mhttp\u001b[0m\u001b[1;33m)\u001b[0m\u001b[1;33m:\u001b[0m\u001b[1;33m\u001b[0m\u001b[1;33m\u001b[0m\u001b[0m\n",
      "\u001b[1;31mHttpAccessTokenRefreshError\u001b[0m: invalid_grant: Invalid JWT Signature."
     ]
    }
   ],
   "source": [
    "#authentication to google api using JSON credential file\n",
    "scope = ['https://spreadsheets.google.com/feeds','https://www.googleapis.com/auth/drive']\n",
    "creds = ServiceAccountCredentials.from_json_keyfile_name('api_data/WDcred.json', scope)\n",
    "client = gspread.authorize(creds)"
   ]
  },
  {
   "cell_type": "markdown",
   "metadata": {},
   "source": [
    "## Historical weather "
   ]
  },
  {
   "cell_type": "code",
   "execution_count": 3,
   "metadata": {},
   "outputs": [
    {
     "ename": "NameError",
     "evalue": "name 'client' is not defined",
     "output_type": "error",
     "traceback": [
      "\u001b[1;31m---------------------------------------------------------------------------\u001b[0m",
      "\u001b[1;31mNameError\u001b[0m                                 Traceback (most recent call last)",
      "\u001b[1;32m<ipython-input-3-69b8ff12f667>\u001b[0m in \u001b[0;36m<module>\u001b[1;34m\u001b[0m\n\u001b[0;32m      1\u001b[0m \u001b[1;31m#get historical weather berlin sheet\u001b[0m\u001b[1;33m\u001b[0m\u001b[1;33m\u001b[0m\u001b[1;33m\u001b[0m\u001b[0m\n\u001b[1;32m----> 2\u001b[1;33m \u001b[0mhist_weather\u001b[0m \u001b[1;33m=\u001b[0m \u001b[0mclient\u001b[0m\u001b[1;33m.\u001b[0m\u001b[0mopen\u001b[0m\u001b[1;33m(\u001b[0m\u001b[1;34m'current_weather_berlin'\u001b[0m\u001b[1;33m)\u001b[0m\u001b[1;33m.\u001b[0m\u001b[0msheet1\u001b[0m\u001b[1;33m\u001b[0m\u001b[1;33m\u001b[0m\u001b[0m\n\u001b[0m\u001b[0;32m      3\u001b[0m \u001b[1;33m\u001b[0m\u001b[0m\n\u001b[0;32m      4\u001b[0m \u001b[0mdata\u001b[0m \u001b[1;33m=\u001b[0m \u001b[0mhist_weather\u001b[0m\u001b[1;33m.\u001b[0m\u001b[0mget_all_values\u001b[0m\u001b[1;33m(\u001b[0m\u001b[1;33m)\u001b[0m\u001b[1;33m\u001b[0m\u001b[1;33m\u001b[0m\u001b[0m\n\u001b[0;32m      5\u001b[0m \u001b[0mheaders\u001b[0m \u001b[1;33m=\u001b[0m \u001b[0mdata\u001b[0m\u001b[1;33m.\u001b[0m\u001b[0mpop\u001b[0m\u001b[1;33m(\u001b[0m\u001b[1;36m0\u001b[0m\u001b[1;33m)\u001b[0m\u001b[1;33m\u001b[0m\u001b[1;33m\u001b[0m\u001b[0m\n",
      "\u001b[1;31mNameError\u001b[0m: name 'client' is not defined"
     ]
    }
   ],
   "source": [
    "#get historical weather berlin sheet\n",
    "hist_weather = client.open('current_weather_berlin').sheet1\n",
    "\n",
    "data = hist_weather.get_all_values()\n",
    "headers = data.pop(0)\n",
    "\n",
    "df_hist = pd.DataFrame(data, columns=headers)"
   ]
  },
  {
   "cell_type": "code",
   "execution_count": 9,
   "metadata": {},
   "outputs": [
    {
     "data": {
      "text/html": [
       "<div>\n",
       "<style scoped>\n",
       "    .dataframe tbody tr th:only-of-type {\n",
       "        vertical-align: middle;\n",
       "    }\n",
       "\n",
       "    .dataframe tbody tr th {\n",
       "        vertical-align: top;\n",
       "    }\n",
       "\n",
       "    .dataframe thead th {\n",
       "        text-align: right;\n",
       "    }\n",
       "</style>\n",
       "<table border=\"1\" class=\"dataframe\">\n",
       "  <thead>\n",
       "    <tr style=\"text-align: right;\">\n",
       "      <th></th>\n",
       "      <th>datetime</th>\n",
       "      <th>temperature</th>\n",
       "      <th>humidity</th>\n",
       "      <th>pressure</th>\n",
       "      <th>windspeed</th>\n",
       "      <th>winddir</th>\n",
       "      <th>cloudcoverage</th>\n",
       "      <th>weather</th>\n",
       "      <th>description</th>\n",
       "      <th>weathericon</th>\n",
       "      <th>sunrisetime</th>\n",
       "      <th>sunsettime</th>\n",
       "    </tr>\n",
       "  </thead>\n",
       "  <tbody>\n",
       "    <tr>\n",
       "      <th>0</th>\n",
       "      <td>2020-03-19 11:45:50</td>\n",
       "      <td>13.91</td>\n",
       "      <td>71</td>\n",
       "      <td>1025</td>\n",
       "      <td>4.1</td>\n",
       "      <td>290</td>\n",
       "      <td>75</td>\n",
       "      <td>Clouds</td>\n",
       "      <td>broken clouds</td>\n",
       "      <td>04d</td>\n",
       "      <td>06:10:36</td>\n",
       "      <td>18:17:28</td>\n",
       "    </tr>\n",
       "    <tr>\n",
       "      <th>1</th>\n",
       "      <td>2020-03-19 12:50:48</td>\n",
       "      <td>13.81</td>\n",
       "      <td>67</td>\n",
       "      <td>1025</td>\n",
       "      <td>3.6</td>\n",
       "      <td>330</td>\n",
       "      <td>75</td>\n",
       "      <td>Clouds</td>\n",
       "      <td>broken clouds</td>\n",
       "      <td>04d</td>\n",
       "      <td>06:10:36</td>\n",
       "      <td>18:17:28</td>\n",
       "    </tr>\n",
       "    <tr>\n",
       "      <th>2</th>\n",
       "      <td>2020-03-19 13:46:46</td>\n",
       "      <td>13.48</td>\n",
       "      <td>71</td>\n",
       "      <td>1025</td>\n",
       "      <td>3.6</td>\n",
       "      <td>350</td>\n",
       "      <td>75</td>\n",
       "      <td>Clouds</td>\n",
       "      <td>broken clouds</td>\n",
       "      <td>04d</td>\n",
       "      <td>06:10:36</td>\n",
       "      <td>18:17:28</td>\n",
       "    </tr>\n",
       "    <tr>\n",
       "      <th>3</th>\n",
       "      <td>2020-03-19 14:52:21</td>\n",
       "      <td>13.65</td>\n",
       "      <td>67</td>\n",
       "      <td>1025</td>\n",
       "      <td>3.1</td>\n",
       "      <td>360</td>\n",
       "      <td>40</td>\n",
       "      <td>Clouds</td>\n",
       "      <td>scattered clouds</td>\n",
       "      <td>03d</td>\n",
       "      <td>06:10:36</td>\n",
       "      <td>18:17:28</td>\n",
       "    </tr>\n",
       "    <tr>\n",
       "      <th>4</th>\n",
       "      <td>2020-03-19 15:52:40</td>\n",
       "      <td>13.26</td>\n",
       "      <td>71</td>\n",
       "      <td>1025</td>\n",
       "      <td>3.6</td>\n",
       "      <td>340</td>\n",
       "      <td>40</td>\n",
       "      <td>Clouds</td>\n",
       "      <td>scattered clouds</td>\n",
       "      <td>03d</td>\n",
       "      <td>06:10:36</td>\n",
       "      <td>18:17:28</td>\n",
       "    </tr>\n",
       "  </tbody>\n",
       "</table>\n",
       "</div>"
      ],
      "text/plain": [
       "              datetime temperature humidity pressure windspeed winddir  \\\n",
       "0  2020-03-19 11:45:50       13.91       71     1025       4.1     290   \n",
       "1  2020-03-19 12:50:48       13.81       67     1025       3.6     330   \n",
       "2  2020-03-19 13:46:46       13.48       71     1025       3.6     350   \n",
       "3  2020-03-19 14:52:21       13.65       67     1025       3.1     360   \n",
       "4  2020-03-19 15:52:40       13.26       71     1025       3.6     340   \n",
       "\n",
       "  cloudcoverage weather       description weathericon sunrisetime sunsettime  \n",
       "0            75  Clouds     broken clouds         04d    06:10:36   18:17:28  \n",
       "1            75  Clouds     broken clouds         04d    06:10:36   18:17:28  \n",
       "2            75  Clouds     broken clouds         04d    06:10:36   18:17:28  \n",
       "3            40  Clouds  scattered clouds         03d    06:10:36   18:17:28  \n",
       "4            40  Clouds  scattered clouds         03d    06:10:36   18:17:28  "
      ]
     },
     "execution_count": 9,
     "metadata": {},
     "output_type": "execute_result"
    }
   ],
   "source": [
    "df_hist.head()"
   ]
  },
  {
   "cell_type": "markdown",
   "metadata": {},
   "source": [
    "## get Openweathermap forecast "
   ]
  },
  {
   "cell_type": "code",
   "execution_count": 11,
   "metadata": {},
   "outputs": [],
   "source": [
    "#get forecast weather berlin sheet from open weather map\n",
    "#forecast_weather = client.open('forecast_weather_berlin')\n",
    "forecast_weather = client.open('forecast_weather_berlin').sheet1\n",
    "\n",
    "data = forecast_weather.get_all_values()\n",
    "headers = data.pop(0)\n",
    "\n",
    "df_fore = pd.DataFrame(data, columns=headers)"
   ]
  },
  {
   "cell_type": "code",
   "execution_count": 13,
   "metadata": {},
   "outputs": [
    {
     "data": {
      "text/html": [
       "<div>\n",
       "<style scoped>\n",
       "    .dataframe tbody tr th:only-of-type {\n",
       "        vertical-align: middle;\n",
       "    }\n",
       "\n",
       "    .dataframe tbody tr th {\n",
       "        vertical-align: top;\n",
       "    }\n",
       "\n",
       "    .dataframe thead th {\n",
       "        text-align: right;\n",
       "    }\n",
       "</style>\n",
       "<table border=\"1\" class=\"dataframe\">\n",
       "  <thead>\n",
       "    <tr style=\"text-align: right;\">\n",
       "      <th></th>\n",
       "      <th></th>\n",
       "      <th>temp_f</th>\n",
       "      <th>humidity_f</th>\n",
       "      <th>pressure_f</th>\n",
       "      <th>wind_speed_f</th>\n",
       "      <th>wind_dir_f</th>\n",
       "      <th>cloudcoverage_f</th>\n",
       "      <th>weather_f</th>\n",
       "      <th>description_f</th>\n",
       "      <th>icon_f</th>\n",
       "    </tr>\n",
       "  </thead>\n",
       "  <tbody>\n",
       "    <tr>\n",
       "      <th>0</th>\n",
       "      <td>2020-03-31 12:00:00</td>\n",
       "      <td>6.17</td>\n",
       "      <td>61</td>\n",
       "      <td>1030</td>\n",
       "      <td>2.09</td>\n",
       "      <td>347</td>\n",
       "      <td>51</td>\n",
       "      <td>Clouds</td>\n",
       "      <td>broken clouds</td>\n",
       "      <td>04d</td>\n",
       "    </tr>\n",
       "    <tr>\n",
       "      <th>1</th>\n",
       "      <td>2020-03-31 15:00:00</td>\n",
       "      <td>6.36</td>\n",
       "      <td>60</td>\n",
       "      <td>1029</td>\n",
       "      <td>2.83</td>\n",
       "      <td>315</td>\n",
       "      <td>100</td>\n",
       "      <td>Clouds</td>\n",
       "      <td>overcast clouds</td>\n",
       "      <td>04d</td>\n",
       "    </tr>\n",
       "    <tr>\n",
       "      <th>2</th>\n",
       "      <td>2020-03-31 18:00:00</td>\n",
       "      <td>3.3</td>\n",
       "      <td>75</td>\n",
       "      <td>1028</td>\n",
       "      <td>2.27</td>\n",
       "      <td>302</td>\n",
       "      <td>89</td>\n",
       "      <td>Clouds</td>\n",
       "      <td>overcast clouds</td>\n",
       "      <td>04n</td>\n",
       "    </tr>\n",
       "    <tr>\n",
       "      <th>3</th>\n",
       "      <td>2020-03-31 21:00:00</td>\n",
       "      <td>1.56</td>\n",
       "      <td>82</td>\n",
       "      <td>1028</td>\n",
       "      <td>1.9</td>\n",
       "      <td>258</td>\n",
       "      <td>0</td>\n",
       "      <td>Clear</td>\n",
       "      <td>clear sky</td>\n",
       "      <td>01n</td>\n",
       "    </tr>\n",
       "    <tr>\n",
       "      <th>4</th>\n",
       "      <td>2020-04-01 00:00:00</td>\n",
       "      <td>0.25</td>\n",
       "      <td>86</td>\n",
       "      <td>1026</td>\n",
       "      <td>3.21</td>\n",
       "      <td>245</td>\n",
       "      <td>0</td>\n",
       "      <td>Clear</td>\n",
       "      <td>clear sky</td>\n",
       "      <td>01n</td>\n",
       "    </tr>\n",
       "  </tbody>\n",
       "</table>\n",
       "</div>"
      ],
      "text/plain": [
       "                       temp_f humidity_f pressure_f wind_speed_f wind_dir_f  \\\n",
       "0  2020-03-31 12:00:00   6.17         61       1030         2.09        347   \n",
       "1  2020-03-31 15:00:00   6.36         60       1029         2.83        315   \n",
       "2  2020-03-31 18:00:00    3.3         75       1028         2.27        302   \n",
       "3  2020-03-31 21:00:00   1.56         82       1028          1.9        258   \n",
       "4  2020-04-01 00:00:00   0.25         86       1026         3.21        245   \n",
       "\n",
       "  cloudcoverage_f weather_f    description_f icon_f  \n",
       "0              51    Clouds    broken clouds    04d  \n",
       "1             100    Clouds  overcast clouds    04d  \n",
       "2              89    Clouds  overcast clouds    04n  \n",
       "3               0     Clear        clear sky    01n  \n",
       "4               0     Clear        clear sky    01n  "
      ]
     },
     "execution_count": 13,
     "metadata": {},
     "output_type": "execute_result"
    }
   ],
   "source": [
    "df_fore.head()"
   ]
  },
  {
   "cell_type": "markdown",
   "metadata": {},
   "source": [
    "# Wrangle"
   ]
  },
  {
   "cell_type": "code",
   "execution_count": null,
   "metadata": {},
   "outputs": [],
   "source": []
  }
 ],
 "metadata": {
  "kernelspec": {
   "display_name": "Python 3",
   "language": "python",
   "name": "python3"
  },
  "language_info": {
   "codemirror_mode": {
    "name": "ipython",
    "version": 3
   },
   "file_extension": ".py",
   "mimetype": "text/x-python",
   "name": "python",
   "nbconvert_exporter": "python",
   "pygments_lexer": "ipython3",
   "version": "3.7.4"
  },
  "toc": {
   "base_numbering": 1,
   "nav_menu": {},
   "number_sections": true,
   "sideBar": true,
   "skip_h1_title": false,
   "title_cell": "Table of Contents",
   "title_sidebar": "Contents",
   "toc_cell": false,
   "toc_position": {},
   "toc_section_display": true,
   "toc_window_display": false
  },
  "varInspector": {
   "cols": {
    "lenName": 16,
    "lenType": 16,
    "lenVar": 40
   },
   "kernels_config": {
    "python": {
     "delete_cmd_postfix": "",
     "delete_cmd_prefix": "del ",
     "library": "var_list.py",
     "varRefreshCmd": "print(var_dic_list())"
    },
    "r": {
     "delete_cmd_postfix": ") ",
     "delete_cmd_prefix": "rm(",
     "library": "var_list.r",
     "varRefreshCmd": "cat(var_dic_list()) "
    }
   },
   "types_to_exclude": [
    "module",
    "function",
    "builtin_function_or_method",
    "instance",
    "_Feature"
   ],
   "window_display": false
  }
 },
 "nbformat": 4,
 "nbformat_minor": 2
}
