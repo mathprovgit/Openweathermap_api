{
 "cells": [
  {
   "cell_type": "markdown",
   "metadata": {},
   "source": [
    "# Infos"
   ]
  },
  {
   "cell_type": "markdown",
   "metadata": {
    "ExecuteTime": {
     "end_time": "2019-12-13T10:55:59.599232Z",
     "start_time": "2019-12-13T10:55:59.595246Z"
    }
   },
   "source": [
    "source\n",
    "- https://www.geeksforgeeks.org/python-find-current-weather-of-any-city-using-openweathermap-api/\n",
    "- https://openweathermap.org/"
   ]
  },
  {
   "cell_type": "markdown",
   "metadata": {},
   "source": [
    "# import packages"
   ]
  },
  {
   "cell_type": "code",
   "execution_count": 152,
   "metadata": {
    "ExecuteTime": {
     "end_time": "2019-12-13T11:24:38.421441Z",
     "start_time": "2019-12-13T11:24:38.413362Z"
    }
   },
   "outputs": [],
   "source": [
    "import pandas as pd\n",
    "import numpy as np\n",
    "import datetime as dt\n",
    "import matplotlib.pyplot as plt\n",
    "%matplotlib inline\n",
    "import requests, json "
   ]
  },
  {
   "cell_type": "markdown",
   "metadata": {
    "ExecuteTime": {
     "end_time": "2019-12-13T10:56:58.394284Z",
     "start_time": "2019-12-13T10:56:58.390294Z"
    }
   },
   "source": [
    "# Call API"
   ]
  },
  {
   "cell_type": "code",
   "execution_count": 53,
   "metadata": {
    "ExecuteTime": {
     "end_time": "2019-12-13T10:54:24.324418Z",
     "start_time": "2019-12-13T10:54:24.244888Z"
    }
   },
   "outputs": [],
   "source": [
    "  \n",
    "# Enter your API key here \n",
    "api_key = \"yourkey\"\n",
    "  \n",
    "# base_url variable to store url \n",
    "base_url =  \"http://api.openweathermap.org/data/2.5/forecast?\"\n",
    "# Give city name \n",
    "city_name = 'Berlin,de'\n",
    "complete_url = base_url + \"appid=\" + api_key + \"&q=\" + city_name \n",
    "  \n",
    "# get method of requests module \n",
    "# return response object \n",
    "response = requests.get(complete_url) \n",
    "  \n",
    "# json method of response object  \n",
    "x = response.json() "
   ]
  },
  {
   "cell_type": "markdown",
   "metadata": {},
   "source": [
    "# Format result"
   ]
  },
  {
   "cell_type": "code",
   "execution_count": 126,
   "metadata": {
    "ExecuteTime": {
     "end_time": "2019-12-13T11:18:44.706654Z",
     "start_time": "2019-12-13T11:18:44.703551Z"
    }
   },
   "outputs": [],
   "source": [
    "#y=x['list']\n",
    "#y[1]"
   ]
  },
  {
   "cell_type": "code",
   "execution_count": 127,
   "metadata": {
    "ExecuteTime": {
     "end_time": "2019-12-13T11:18:49.144907Z",
     "start_time": "2019-12-13T11:18:49.141231Z"
    }
   },
   "outputs": [],
   "source": [
    "#x['list'][1]['wind']['speed']"
   ]
  },
  {
   "cell_type": "code",
   "execution_count": 162,
   "metadata": {
    "ExecuteTime": {
     "end_time": "2019-12-13T11:27:32.812036Z",
     "start_time": "2019-12-13T11:27:32.797798Z"
    }
   },
   "outputs": [],
   "source": [
    "weather_data=[]\n",
    "for i in range(len(y)):\n",
    "    weather_data.append([x['list'][i]['dt_txt'],\n",
    "                         x['list'][i]['main']['temp'],\n",
    "                         x['list'][i]['main']['humidity'],\n",
    "                         x['list'][i]['wind']['speed'],\n",
    "                         x['list'][i]['wind']['deg'],\n",
    "                         x['list'][i]['weather'][0]['main']\n",
    "                        ])\n",
    "                         \n",
    "\n",
    "df_weather=pd.DataFrame(weather_data,columns=['datetime','temp','humidity','wind_speed','wind_dir','weather'])\n",
    "df_weather.set_index(pd.to_datetime(df_weather.datetime),inplace=True)\n",
    "df_weather.drop('datetime',axis=1,inplace=True)\n",
    "#kelvin to degree\n",
    "df_weather['temp']=df_weather['temp']-273.15"
   ]
  },
  {
   "cell_type": "code",
   "execution_count": 163,
   "metadata": {
    "ExecuteTime": {
     "end_time": "2019-12-13T11:27:33.132684Z",
     "start_time": "2019-12-13T11:27:33.117186Z"
    }
   },
   "outputs": [
    {
     "data": {
      "text/html": [
       "<div>\n",
       "<style scoped>\n",
       "    .dataframe tbody tr th:only-of-type {\n",
       "        vertical-align: middle;\n",
       "    }\n",
       "\n",
       "    .dataframe tbody tr th {\n",
       "        vertical-align: top;\n",
       "    }\n",
       "\n",
       "    .dataframe thead th {\n",
       "        text-align: right;\n",
       "    }\n",
       "</style>\n",
       "<table border=\"1\" class=\"dataframe\">\n",
       "  <thead>\n",
       "    <tr style=\"text-align: right;\">\n",
       "      <th></th>\n",
       "      <th>temp</th>\n",
       "      <th>humidity</th>\n",
       "      <th>wind_speed</th>\n",
       "      <th>wind_dir</th>\n",
       "      <th>weather</th>\n",
       "    </tr>\n",
       "    <tr>\n",
       "      <th>datetime</th>\n",
       "      <th></th>\n",
       "      <th></th>\n",
       "      <th></th>\n",
       "      <th></th>\n",
       "      <th></th>\n",
       "    </tr>\n",
       "  </thead>\n",
       "  <tbody>\n",
       "    <tr>\n",
       "      <th>2019-12-13 12:00:00</th>\n",
       "      <td>3.49</td>\n",
       "      <td>69</td>\n",
       "      <td>5.01</td>\n",
       "      <td>133</td>\n",
       "      <td>Clear</td>\n",
       "    </tr>\n",
       "    <tr>\n",
       "      <th>2019-12-13 15:00:00</th>\n",
       "      <td>2.40</td>\n",
       "      <td>77</td>\n",
       "      <td>3.44</td>\n",
       "      <td>132</td>\n",
       "      <td>Clear</td>\n",
       "    </tr>\n",
       "    <tr>\n",
       "      <th>2019-12-13 18:00:00</th>\n",
       "      <td>1.72</td>\n",
       "      <td>79</td>\n",
       "      <td>3.49</td>\n",
       "      <td>149</td>\n",
       "      <td>Clouds</td>\n",
       "    </tr>\n",
       "    <tr>\n",
       "      <th>2019-12-13 21:00:00</th>\n",
       "      <td>1.46</td>\n",
       "      <td>82</td>\n",
       "      <td>3.55</td>\n",
       "      <td>150</td>\n",
       "      <td>Clouds</td>\n",
       "    </tr>\n",
       "    <tr>\n",
       "      <th>2019-12-14 00:00:00</th>\n",
       "      <td>3.77</td>\n",
       "      <td>90</td>\n",
       "      <td>3.52</td>\n",
       "      <td>186</td>\n",
       "      <td>Clouds</td>\n",
       "    </tr>\n",
       "  </tbody>\n",
       "</table>\n",
       "</div>"
      ],
      "text/plain": [
       "                     temp  humidity  wind_speed  wind_dir weather\n",
       "datetime                                                         \n",
       "2019-12-13 12:00:00  3.49        69        5.01       133   Clear\n",
       "2019-12-13 15:00:00  2.40        77        3.44       132   Clear\n",
       "2019-12-13 18:00:00  1.72        79        3.49       149  Clouds\n",
       "2019-12-13 21:00:00  1.46        82        3.55       150  Clouds\n",
       "2019-12-14 00:00:00  3.77        90        3.52       186  Clouds"
      ]
     },
     "execution_count": 163,
     "metadata": {},
     "output_type": "execute_result"
    }
   ],
   "source": [
    "df_weather.head()"
   ]
  },
  {
   "cell_type": "markdown",
   "metadata": {
    "ExecuteTime": {
     "end_time": "2019-12-13T11:22:25.119371Z",
     "start_time": "2019-12-13T11:22:25.111393Z"
    }
   },
   "source": [
    "# Plot"
   ]
  },
  {
   "cell_type": "code",
   "execution_count": 165,
   "metadata": {
    "ExecuteTime": {
     "end_time": "2019-12-13T11:27:47.355085Z",
     "start_time": "2019-12-13T11:27:47.055240Z"
    }
   },
   "outputs": [
    {
     "data": {
      "image/png": "[encoded data removed]",
      "text/plain": [
       "<Figure size 1008x432 with 1 Axes>"
      ]
     },
     "metadata": {
      "needs_background": "light"
     },
     "output_type": "display_data"
    }
   ],
   "source": [
    "if True:\n",
    "    plt.figure(figsize=(14,6))\n",
    "    df_weather['temp'].plot()\n",
    "    plt.xlabel('Date time')\n",
    "    plt.ylabel('Temperature')\n",
    "    plt.title('\\nTemperature in Berlin\\n')\n",
    "    plt.grid()\n",
    "    plt.legend()\n",
    "    plt.show()"
   ]
  },
  {
   "cell_type": "code",
   "execution_count": null,
   "metadata": {},
   "outputs": [],
   "source": []
  }
 ],
 "metadata": {
  "hide_input": false,
  "kernelspec": {
   "display_name": "Python 3",
   "language": "python",
   "name": "python3"
  },
  "language_info": {
   "codemirror_mode": {
    "name": "ipython",
    "version": 3
   },
   "file_extension": ".py",
   "mimetype": "text/x-python",
   "name": "python",
   "nbconvert_exporter": "python",
   "pygments_lexer": "ipython3",
   "version": "3.7.3"
  },
  "toc": {
   "base_numbering": 1,
   "nav_menu": {},
   "number_sections": true,
   "sideBar": true,
   "skip_h1_title": false,
   "title_cell": "Table of Contents",
   "title_sidebar": "Contents",
   "toc_cell": false,
   "toc_position": {},
   "toc_section_display": true,
   "toc_window_display": false
  }
 },
 "nbformat": 4,
 "nbformat_minor": 2
}
